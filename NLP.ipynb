{
  "nbformat": 4,
  "nbformat_minor": 0,
  "metadata": {
    "colab": {
      "provenance": [],
      "authorship_tag": "ABX9TyO9EZn2N1pxK6qwkIe7gRiN",
      "include_colab_link": true
    },
    "kernelspec": {
      "name": "python3",
      "display_name": "Python 3"
    },
    "language_info": {
      "name": "python"
    }
  },
  "cells": [
    {
      "cell_type": "markdown",
      "metadata": {
        "id": "view-in-github",
        "colab_type": "text"
      },
      "source": [
        "<a href=\"https://colab.research.google.com/github/dlawnghks/Self-study/blob/main/NLP.ipynb\" target=\"_parent\"><img src=\"https://colab.research.google.com/assets/colab-badge.svg\" alt=\"Open In Colab\"/></a>"
      ]
    },
    {
      "cell_type": "code",
      "source": [
        "!pip install konlpy\n",
        "!pip install nltk"
      ],
      "metadata": {
        "colab": {
          "base_uri": "https://localhost:8080/"
        },
        "id": "KCGZhBjVUJr5",
        "outputId": "deb01e60-1017-482d-9e62-c128f2cfa4b0"
      },
      "execution_count": null,
      "outputs": [
        {
          "output_type": "stream",
          "name": "stdout",
          "text": [
            "Collecting konlpy\n",
            "  Downloading konlpy-0.6.0-py2.py3-none-any.whl.metadata (1.9 kB)\n",
            "Collecting JPype1>=0.7.0 (from konlpy)\n",
            "  Downloading jpype1-1.5.1-cp310-cp310-manylinux_2_17_x86_64.manylinux2014_x86_64.whl.metadata (4.9 kB)\n",
            "Requirement already satisfied: lxml>=4.1.0 in /usr/local/lib/python3.10/dist-packages (from konlpy) (5.3.0)\n",
            "Requirement already satisfied: numpy>=1.6 in /usr/local/lib/python3.10/dist-packages (from konlpy) (1.26.4)\n",
            "Requirement already satisfied: packaging in /usr/local/lib/python3.10/dist-packages (from JPype1>=0.7.0->konlpy) (24.2)\n",
            "Downloading konlpy-0.6.0-py2.py3-none-any.whl (19.4 MB)\n",
            "\u001b[2K   \u001b[90m━━━━━━━━━━━━━━━━━━━━━━━━━━━━━━━━━━━━━━━━\u001b[0m \u001b[32m19.4/19.4 MB\u001b[0m \u001b[31m66.5 MB/s\u001b[0m eta \u001b[36m0:00:00\u001b[0m\n",
            "\u001b[?25hDownloading jpype1-1.5.1-cp310-cp310-manylinux_2_17_x86_64.manylinux2014_x86_64.whl (493 kB)\n",
            "\u001b[2K   \u001b[90m━━━━━━━━━━━━━━━━━━━━━━━━━━━━━━━━━━━━━━━━\u001b[0m \u001b[32m493.8/493.8 kB\u001b[0m \u001b[31m30.4 MB/s\u001b[0m eta \u001b[36m0:00:00\u001b[0m\n",
            "\u001b[?25hInstalling collected packages: JPype1, konlpy\n",
            "Successfully installed JPype1-1.5.1 konlpy-0.6.0\n",
            "Requirement already satisfied: nltk in /usr/local/lib/python3.10/dist-packages (3.9.1)\n",
            "Requirement already satisfied: click in /usr/local/lib/python3.10/dist-packages (from nltk) (8.1.8)\n",
            "Requirement already satisfied: joblib in /usr/local/lib/python3.10/dist-packages (from nltk) (1.4.2)\n",
            "Requirement already satisfied: regex>=2021.8.3 in /usr/local/lib/python3.10/dist-packages (from nltk) (2024.11.6)\n",
            "Requirement already satisfied: tqdm in /usr/local/lib/python3.10/dist-packages (from nltk) (4.67.1)\n"
          ]
        }
      ]
    },
    {
      "cell_type": "code",
      "source": [
        "import nltk\n",
        "nltk.download('punkt')"
      ],
      "metadata": {
        "colab": {
          "base_uri": "https://localhost:8080/"
        },
        "id": "3JzHxBGMUOMG",
        "outputId": "d0614442-5c57-4722-f41a-e073e727f5e1"
      },
      "execution_count": null,
      "outputs": [
        {
          "output_type": "stream",
          "name": "stderr",
          "text": [
            "[nltk_data] Downloading package punkt to /root/nltk_data...\n",
            "[nltk_data]   Unzipping tokenizers/punkt.zip.\n"
          ]
        },
        {
          "output_type": "execute_result",
          "data": {
            "text/plain": [
              "True"
            ]
          },
          "metadata": {},
          "execution_count": 3
        }
      ]
    },
    {
      "cell_type": "markdown",
      "source": [
        "#형태소 = 언어에서 의미를 가진 최소의 단위"
      ],
      "metadata": {
        "id": "rTDfixfbU2mC"
      }
    },
    {
      "cell_type": "code",
      "source": [
        "from konlpy.tag import Okt\n",
        "from collections import Counter\n",
        "\n",
        "# 분석할 텍스트\n",
        "text = \"\"\"\n",
        "자연어 처리는 컴퓨터 과학과 인공지능의 한 분야로,\n",
        "컴퓨터가 인간의 언어를 이해하고 해석할 수 있도록 하는 기술입니다.\n",
        "텍스트 분석, 기계 번역, 감성 분석 등 다양한 응용 분야가 있습니다.\n",
        "\"\"\"\n",
        "\n",
        "# 형태소 분석기 초기화\n",
        "okt = Okt()\n",
        "\n",
        "# 텍스트를 명사 단위로 토큰화\n",
        "tokens = okt.nouns(text)\n",
        "\n",
        "# 단어의 빈도수 계산\n",
        "word_counts = Counter(tokens)\n",
        "\n",
        "# 결과 출력\n",
        "print(\"단어 빈도수:\")\n",
        "for word, count in word_counts.most_common():\n",
        "    print(f\"{word}: {count}\")\n"
      ],
      "metadata": {
        "colab": {
          "base_uri": "https://localhost:8080/"
        },
        "id": "7fTqbeotUSpl",
        "outputId": "0de2582d-911e-45c1-8639-04b4137e20f9"
      },
      "execution_count": null,
      "outputs": [
        {
          "output_type": "stream",
          "name": "stdout",
          "text": [
            "단어 빈도수:\n",
            "컴퓨터: 2\n",
            "분야: 2\n",
            "분석: 2\n",
            "자연어: 1\n",
            "처리: 1\n",
            "과학: 1\n",
            "인공: 1\n",
            "지능: 1\n",
            "인간: 1\n",
            "언어: 1\n",
            "이해: 1\n",
            "해석: 1\n",
            "수: 1\n",
            "기술: 1\n",
            "텍스트: 1\n",
            "기계: 1\n",
            "번역: 1\n",
            "감성: 1\n",
            "등: 1\n",
            "응용: 1\n"
          ]
        }
      ]
    },
    {
      "cell_type": "code",
      "source": [
        "from konlpy.tag import Okt\n",
        "from collections import Counter\n",
        "\n",
        "# 분석할 텍스트\n",
        "text = input(\"분석할 텍스트를 입력하세요: \")\n",
        "\n",
        "# 형태소 분석기 초기화\n",
        "okt = Okt()\n",
        "\n",
        "# 텍스트를 명사 단위로 토큰화\n",
        "tokens = okt.nouns(text)\n",
        "\n",
        "# 단어의 빈도수 계산\n",
        "word_counts = Counter(tokens)\n",
        "\n",
        "# 결과 출력\n",
        "print(\"단어 빈도수:\")\n",
        "for word, count in word_counts.most_common():\n",
        "    print(f\"{word}: {count}\")\n"
      ],
      "metadata": {
        "id": "50LOmcwUUZBY",
        "colab": {
          "base_uri": "https://localhost:8080/"
        },
        "outputId": "32ae6377-f2e1-4201-803f-e0497dcdc0fc"
      },
      "execution_count": null,
      "outputs": [
        {
          "output_type": "stream",
          "name": "stdout",
          "text": [
            "분석할 텍스트를 입력하세요: 안녕하세요 반가워요\n",
            "단어 빈도수:\n"
          ]
        }
      ]
    },
    {
      "cell_type": "code",
      "source": [
        "from konlpy.tag import Okt\n",
        "from collections import Counter\n",
        "\n",
        "# 사용자가 입력한 텍스트 받기\n",
        "text = input(\"분석할 문장을 입력하세요: \")\n",
        "\n",
        "# 형태소 분석기 초기화\n",
        "okt = Okt()\n",
        "\n",
        "# 텍스트를 형태소 단위로 분석\n",
        "tokens_with_tags = okt.pos(text)\n",
        "\n",
        "# 단어와 품사 분리\n",
        "tokens = [word for word, tag in tokens_with_tags]\n",
        "tags = {word: tag for word, tag in tokens_with_tags}\n",
        "\n",
        "# 단어의 빈도수 계산\n",
        "word_counts = Counter(tokens)\n",
        "\n",
        "# 결과 출력\n",
        "print(\"\\n단어 빈도수 및 품사:\")\n",
        "for word, count in word_counts.most_common():\n",
        "    print(f\"{word} ({tags[word]}): {count}번\")\n"
      ],
      "metadata": {
        "colab": {
          "base_uri": "https://localhost:8080/"
        },
        "id": "tMTnlZez9D2l",
        "outputId": "afb8395b-4daf-42dd-aa50-7614698e53b4"
      },
      "execution_count": null,
      "outputs": [
        {
          "output_type": "stream",
          "name": "stdout",
          "text": [
            "분석할 문장을 입력하세요: 안녕하세요\n",
            "\n",
            "단어 빈도수 및 품사:\n",
            "안녕하세요 (Adjective): 1번\n"
          ]
        }
      ]
    },
    {
      "cell_type": "code",
      "source": [
        "from konlpy.tag import Okt\n",
        "from collections import Counter\n",
        "\n",
        "\n",
        "food_data = {\n",
        "    \"매콤하고 달달하다\": \"떡볶이\",\n",
        "    \"달달하고 부드럽다\": \"케이크\",\n",
        "    \"바삭하고 짭짤하다\": \"치킨\",\n",
        "    \"고소하고 쫄깃하다\": \"김밥\",\n",
        "    \"새콤달콤하다\": \"탕수육\",\n",
        "}\n",
        "\n",
        "def predict_food(input_text):\n",
        "    okt = Okt()\n",
        "    tokens_with_tags = okt.pos(input_text)\n",
        "\n",
        "    tokens = [word for word, tag in tokens_with_tags if tag in [\"Adjective\", \"Noun\"]]\n",
        "    print(f\"추출된 키워드: {tokens}\")\n",
        "\n",
        "    for features, food in food_data.items():\n",
        "        feature_tokens = features.split()\n",
        "        if any(token in feature_tokens for token in tokens):\n",
        "            return food\n",
        "\n",
        "    return \"알 수 없는 음식\"\n",
        "\n",
        "text = input(\"음식의 특징을 입력하세요: \")\n",
        "predicted_food = predict_food(text)\n",
        "print(f\"예측된 음식: {predicted_food}\")\n"
      ],
      "metadata": {
        "colab": {
          "base_uri": "https://localhost:8080/"
        },
        "id": "8yrOw7sVGrsZ",
        "outputId": "1a2381be-7530-4758-a5c5-2fd0a67fef85"
      },
      "execution_count": null,
      "outputs": [
        {
          "output_type": "stream",
          "name": "stdout",
          "text": [
            "음식의 특징을 입력하세요: 매콤해요\n",
            "추출된 키워드: ['매콤']\n",
            "예측된 음식: 알 수 없는 음식\n"
          ]
        }
      ]
    },
    {
      "cell_type": "markdown",
      "source": [
        "데이터 추가 및 성능 개선 필요"
      ],
      "metadata": {
        "id": "4jvATA8kHUxr"
      }
    },
    {
      "cell_type": "code",
      "source": [
        "!pip install kiwipiepy\n",
        "from kiwipiepy import Kiwi\n",
        "kiwi = Kiwi()"
      ],
      "metadata": {
        "colab": {
          "base_uri": "https://localhost:8080/"
        },
        "id": "IIrP2hU0-kVW",
        "outputId": "7309e423-9c84-4bbd-9cce-7584c6817cea"
      },
      "execution_count": null,
      "outputs": [
        {
          "output_type": "stream",
          "name": "stdout",
          "text": [
            "Collecting kiwipiepy\n",
            "  Downloading kiwipiepy-0.20.3-cp310-cp310-manylinux_2_17_x86_64.manylinux2014_x86_64.whl.metadata (1.1 kB)\n",
            "Collecting kiwipiepy_model<0.21,>=0.20 (from kiwipiepy)\n",
            "  Downloading kiwipiepy_model-0.20.0.tar.gz (34.7 MB)\n",
            "\u001b[2K     \u001b[90m━━━━━━━━━━━━━━━━━━━━━━━━━━━━━━━━━━━━━━━━\u001b[0m \u001b[32m34.7/34.7 MB\u001b[0m \u001b[31m52.5 MB/s\u001b[0m eta \u001b[36m0:00:00\u001b[0m\n",
            "\u001b[?25h  Preparing metadata (setup.py) ... \u001b[?25l\u001b[?25hdone\n",
            "Requirement already satisfied: numpy in /usr/local/lib/python3.10/dist-packages (from kiwipiepy) (1.26.4)\n",
            "Requirement already satisfied: tqdm in /usr/local/lib/python3.10/dist-packages (from kiwipiepy) (4.67.1)\n",
            "Downloading kiwipiepy-0.20.3-cp310-cp310-manylinux_2_17_x86_64.manylinux2014_x86_64.whl (3.6 MB)\n",
            "\u001b[2K   \u001b[90m━━━━━━━━━━━━━━━━━━━━━━━━━━━━━━━━━━━━━━━━\u001b[0m \u001b[32m3.6/3.6 MB\u001b[0m \u001b[31m63.4 MB/s\u001b[0m eta \u001b[36m0:00:00\u001b[0m\n",
            "\u001b[?25hBuilding wheels for collected packages: kiwipiepy_model\n",
            "  Building wheel for kiwipiepy_model (setup.py) ... \u001b[?25l\u001b[?25hdone\n",
            "  Created wheel for kiwipiepy_model: filename=kiwipiepy_model-0.20.0-py3-none-any.whl size=34818026 sha256=58b7d9e59aa4cb28ef554828fd01e844374ad651fa012292290941fc8613a3c5\n",
            "  Stored in directory: /root/.cache/pip/wheels/b6/b1/66/2be9840f8ef3627d63d93503d81a5e3b41e9498dcb63b00b13\n",
            "Successfully built kiwipiepy_model\n",
            "Installing collected packages: kiwipiepy_model, kiwipiepy\n",
            "Successfully installed kiwipiepy-0.20.3 kiwipiepy_model-0.20.0\n"
          ]
        }
      ]
    },
    {
      "cell_type": "code",
      "source": [
        "text = \"이것은 한글 형태소 분석 키위 분석기입니다.\"\n",
        "tokens = kiwi.tokenize(text)"
      ],
      "metadata": {
        "id": "xC7De9aT-2nl"
      },
      "execution_count": null,
      "outputs": []
    },
    {
      "cell_type": "code",
      "source": [
        "nouns = []\n",
        "for token in kiwi.tokenize(text):\n",
        "    if 'NN' in token.tag:\n",
        "        nouns.append(token.form)"
      ],
      "metadata": {
        "id": "ukSHbZ1h_eQ0"
      },
      "execution_count": null,
      "outputs": []
    },
    {
      "cell_type": "markdown",
      "source": [
        "키위 형태소 분석기 한글 분석을 위해 공부"
      ],
      "metadata": {
        "id": "ogxvpPyEBncr"
      }
    },
    {
      "cell_type": "code",
      "source": [
        "!pip install kiwipiepy\n",
        "from kiwipiepy import Kiwi"
      ],
      "metadata": {
        "id": "wDxWvyPzBnMc",
        "colab": {
          "base_uri": "https://localhost:8080/"
        },
        "outputId": "fb50c993-fcc1-44b0-edfc-6eea9ba1cb45"
      },
      "execution_count": null,
      "outputs": [
        {
          "output_type": "stream",
          "name": "stdout",
          "text": [
            "Requirement already satisfied: kiwipiepy in /usr/local/lib/python3.10/dist-packages (0.20.3)\n",
            "Requirement already satisfied: kiwipiepy_model<0.21,>=0.20 in /usr/local/lib/python3.10/dist-packages (from kiwipiepy) (0.20.0)\n",
            "Requirement already satisfied: numpy in /usr/local/lib/python3.10/dist-packages (from kiwipiepy) (1.26.4)\n",
            "Requirement already satisfied: tqdm in /usr/local/lib/python3.10/dist-packages (from kiwipiepy) (4.67.1)\n"
          ]
        }
      ]
    },
    {
      "cell_type": "code",
      "source": [
        "kiwi = Kiwi()\n",
        "\n",
        "text = input(\"분석할 텍스트를 입력하세요: \")\n",
        "\n",
        "tokens = kiwi.analyze(text) #형태소를 단위로 나눔\n",
        "print(\"\\n[1] 형태소 분석 결과:\")\n",
        "for token in tokens[0][0]:\n",
        "    print(f\"{token[0]} ({token[1]})\")\n",
        "\n",
        "stopwords = ['은', '는', '이', '가', '을', '를', '에', '의', '과', '와']  #불용어 제거\n",
        "filtered_tokens = [token[0] for token in tokens[0][0] if token[0] not in stopwords]\n",
        "print(\"\\n[2] 불용어 제거 후:\")\n",
        "print(filtered_tokens)\n",
        "\n",
        "nouns = [token[0] for token in tokens[0][0] if token[1] in ['NNG', 'NNP']]\n",
        "print(\"\\n[3] 텍스트에서 추출된 명사:\")\n",
        "print(nouns)\n",
        "\n",
        "unique_words = sorted(set(filtered_tokens))\n",
        "print(\"\\n[4] 중복 제거된 단어 리스트:\")\n",
        "print(unique_words)"
      ],
      "metadata": {
        "id": "tOQdLwf8ABl9",
        "colab": {
          "base_uri": "https://localhost:8080/"
        },
        "outputId": "ffffaef2-85e8-4517-c52f-298e04c21c59"
      },
      "execution_count": null,
      "outputs": [
        {
          "output_type": "stream",
          "name": "stdout",
          "text": [
            "분석할 텍스트를 입력하세요: 자연어 처리는 인공지능의 한 분야로, 사람의 언어를 이해하고 처리하는 기술입니다.\n",
            "\n",
            "[1] 형태소 분석 결과:\n",
            "자연어 처리 (NNP)\n",
            "는 (JX)\n",
            "인공 (NNG)\n",
            "지능 (NNG)\n",
            "의 (JKG)\n",
            "한 (MM)\n",
            "분야 (NNG)\n",
            "로 (JKB)\n",
            ", (SP)\n",
            "사람 (NNG)\n",
            "의 (JKG)\n",
            "언어 (NNG)\n",
            "를 (JKO)\n",
            "이해 (NNG)\n",
            "하 (XSV)\n",
            "고 (EC)\n",
            "처리 (NNG)\n",
            "하 (XSV)\n",
            "는 (ETM)\n",
            "기술 (NNG)\n",
            "이 (VCP)\n",
            "ᆸ니다 (EF)\n",
            ". (SF)\n",
            "\n",
            "[2] 불용어 제거 후:\n",
            "['자연어 처리', '인공', '지능', '한', '분야', '로', ',', '사람', '언어', '이해', '하', '고', '처리', '하', '기술', 'ᆸ니다', '.']\n",
            "\n",
            "[3] 텍스트에서 추출된 명사:\n",
            "['자연어 처리', '인공', '지능', '분야', '사람', '언어', '이해', '처리', '기술']\n",
            "\n",
            "[4] 중복 제거된 단어 리스트:\n",
            "[',', '.', 'ᆸ니다', '고', '기술', '로', '분야', '사람', '언어', '이해', '인공', '자연어 처리', '지능', '처리', '하', '한']\n"
          ]
        }
      ]
    },
    {
      "cell_type": "markdown",
      "source": [
        "불용어 제거,키위 형태소로 코드 만들어 공부"
      ],
      "metadata": {
        "id": "KUZ6G3ok1G4P"
      }
    },
    {
      "cell_type": "code",
      "source": [
        "!pip install kiwipiepy wordcloud matplotlib\n",
        "!sudo apt-get install -y fonts-nanum\n",
        "!fc-cache -fv\n",
        "from kiwipiepy import Kiwi\n",
        "from wordcloud import WordCloud\n",
        "import matplotlib.pyplot as plt\n",
        "from collections import Counter\n",
        "\n",
        "kiwi = Kiwi()\n",
        "\n",
        "text = input(\"분석할 텍스트를 입력하세요: \")\n",
        "\n",
        "#형태소 분석 및 명사 추출\n",
        "tokens = kiwi.analyze(text)\n",
        "nouns = [token[0] for token in tokens[0][0] if token[1] in ['NNG', 'NNP']]  # 명사만 추출\n",
        "\n",
        "# 명사 빈도수 계산\n",
        "nouns_count = Counter(nouns)\n",
        "\n",
        "# 워드 클라우드 생성\n",
        "wordcloud = WordCloud(\n",
        "    font_path='/usr/share/fonts/truetype/nanum/NanumGothic.ttf',  # 한글 폰트 경로 설정\n",
        "    background_color='white',\n",
        "    width=800,\n",
        "    height=400\n",
        ").generate_from_frequencies(nouns_count)\n",
        "\n",
        "#워드 클라우드 시각화\n",
        "plt.figure(figsize=(10, 5))\n",
        "plt.imshow(wordcloud, interpolation='bilinear')\n",
        "plt.axis('off')  # 축 제거\n",
        "plt.title(\"Word Cloud\", fontsize=20)\n",
        "plt.show()\n"
      ],
      "metadata": {
        "id": "gy97iqvrW8y6",
        "colab": {
          "base_uri": "https://localhost:8080/",
          "height": 1000
        },
        "outputId": "8b379cb6-c4cb-442f-82a3-0b6d56f91adb"
      },
      "execution_count": null,
      "outputs": [
        {
          "name": "stdout",
          "output_type": "stream",
          "text": [
            "Requirement already satisfied: kiwipiepy in /usr/local/lib/python3.10/dist-packages (0.20.3)\n",
            "Requirement already satisfied: wordcloud in /usr/local/lib/python3.10/dist-packages (1.9.4)\n",
            "Requirement already satisfied: matplotlib in /usr/local/lib/python3.10/dist-packages (3.10.0)\n",
            "Requirement already satisfied: kiwipiepy_model<0.21,>=0.20 in /usr/local/lib/python3.10/dist-packages (from kiwipiepy) (0.20.0)\n",
            "Requirement already satisfied: numpy in /usr/local/lib/python3.10/dist-packages (from kiwipiepy) (1.26.4)\n",
            "Requirement already satisfied: tqdm in /usr/local/lib/python3.10/dist-packages (from kiwipiepy) (4.67.1)\n",
            "Requirement already satisfied: pillow in /usr/local/lib/python3.10/dist-packages (from wordcloud) (11.1.0)\n",
            "Requirement already satisfied: contourpy>=1.0.1 in /usr/local/lib/python3.10/dist-packages (from matplotlib) (1.3.1)\n",
            "Requirement already satisfied: cycler>=0.10 in /usr/local/lib/python3.10/dist-packages (from matplotlib) (0.12.1)\n",
            "Requirement already satisfied: fonttools>=4.22.0 in /usr/local/lib/python3.10/dist-packages (from matplotlib) (4.55.3)\n",
            "Requirement already satisfied: kiwisolver>=1.3.1 in /usr/local/lib/python3.10/dist-packages (from matplotlib) (1.4.8)\n",
            "Requirement already satisfied: packaging>=20.0 in /usr/local/lib/python3.10/dist-packages (from matplotlib) (24.2)\n",
            "Requirement already satisfied: pyparsing>=2.3.1 in /usr/local/lib/python3.10/dist-packages (from matplotlib) (3.2.1)\n",
            "Requirement already satisfied: python-dateutil>=2.7 in /usr/local/lib/python3.10/dist-packages (from matplotlib) (2.8.2)\n",
            "Requirement already satisfied: six>=1.5 in /usr/local/lib/python3.10/dist-packages (from python-dateutil>=2.7->matplotlib) (1.17.0)\n",
            "Reading package lists... Done\n",
            "Building dependency tree... Done\n",
            "Reading state information... Done\n",
            "The following NEW packages will be installed:\n",
            "  fonts-nanum\n",
            "0 upgraded, 1 newly installed, 0 to remove and 49 not upgraded.\n",
            "Need to get 10.3 MB of archives.\n",
            "After this operation, 34.1 MB of additional disk space will be used.\n",
            "Get:1 http://archive.ubuntu.com/ubuntu jammy/universe amd64 fonts-nanum all 20200506-1 [10.3 MB]\n",
            "Fetched 10.3 MB in 1s (10.6 MB/s)\n",
            "debconf: unable to initialize frontend: Dialog\n",
            "debconf: (No usable dialog-like program is installed, so the dialog based frontend cannot be used. at /usr/share/perl5/Debconf/FrontEnd/Dialog.pm line 78, <> line 1.)\n",
            "debconf: falling back to frontend: Readline\n",
            "debconf: unable to initialize frontend: Readline\n",
            "debconf: (This frontend requires a controlling tty.)\n",
            "debconf: falling back to frontend: Teletype\n",
            "dpkg-preconfigure: unable to re-open stdin: \n",
            "Selecting previously unselected package fonts-nanum.\n",
            "(Reading database ... 123632 files and directories currently installed.)\n",
            "Preparing to unpack .../fonts-nanum_20200506-1_all.deb ...\n",
            "Unpacking fonts-nanum (20200506-1) ...\n",
            "Setting up fonts-nanum (20200506-1) ...\n",
            "Processing triggers for fontconfig (2.13.1-4.2ubuntu5) ...\n",
            "/usr/share/fonts: caching, new cache contents: 0 fonts, 1 dirs\n",
            "/usr/share/fonts/truetype: caching, new cache contents: 0 fonts, 3 dirs\n",
            "/usr/share/fonts/truetype/humor-sans: caching, new cache contents: 1 fonts, 0 dirs\n",
            "/usr/share/fonts/truetype/liberation: caching, new cache contents: 16 fonts, 0 dirs\n",
            "/usr/share/fonts/truetype/nanum: caching, new cache contents: 12 fonts, 0 dirs\n",
            "/usr/local/share/fonts: caching, new cache contents: 0 fonts, 0 dirs\n",
            "/root/.local/share/fonts: skipping, no such directory\n",
            "/root/.fonts: skipping, no such directory\n",
            "/usr/share/fonts/truetype: skipping, looped directory detected\n",
            "/usr/share/fonts/truetype/humor-sans: skipping, looped directory detected\n",
            "/usr/share/fonts/truetype/liberation: skipping, looped directory detected\n",
            "/usr/share/fonts/truetype/nanum: skipping, looped directory detected\n",
            "/var/cache/fontconfig: cleaning cache directory\n",
            "/root/.cache/fontconfig: not cleaning non-existent cache directory\n",
            "/root/.fontconfig: not cleaning non-existent cache directory\n",
            "fc-cache: succeeded\n",
            "분석할 텍스트를 입력하세요: 안녕하세요 이번에 자연어 처리를 공부중인 임주환입니다 잘 부탁드립니다.\n"
          ]
        },
        {
          "output_type": "display_data",
          "data": {
            "text/plain": [
              "<Figure size 1000x500 with 1 Axes>"
            ],
            "image/png": "[encoded data removed]"
          },
          "metadata": {}
        }
      ]
    },
    {
      "cell_type": "markdown",
      "source": [
        "한글 워드 클라우드 생성"
      ],
      "metadata": {
        "id": "OoqrVyaiExH-"
      }
    },
    {
      "cell_type": "code",
      "source": [
        "import numpy as np"
      ],
      "metadata": {
        "id": "mDonq_WO1WdA"
      },
      "execution_count": 1,
      "outputs": []
    },
    {
      "cell_type": "code",
      "source": [
        "a = np.array([1, 2])\n",
        "b = np.array([2, 2])\n",
        "c = np.array([-3, -3])"
      ],
      "metadata": {
        "id": "bempNAaB7BIx"
      },
      "execution_count": 9,
      "outputs": []
    },
    {
      "cell_type": "code",
      "source": [
        "a.shape"
      ],
      "metadata": {
        "colab": {
          "base_uri": "https://localhost:8080/"
        },
        "id": "SRrv24kt7EgQ",
        "outputId": "042599bd-030d-44fc-ac5a-2e53c1de14a7"
      },
      "execution_count": 3,
      "outputs": [
        {
          "output_type": "execute_result",
          "data": {
            "text/plain": [
              "(2,)"
            ]
          },
          "metadata": {},
          "execution_count": 3
        }
      ]
    },
    {
      "cell_type": "code",
      "source": [
        "len(a)"
      ],
      "metadata": {
        "colab": {
          "base_uri": "https://localhost:8080/"
        },
        "id": "c8hadwfH7Fi4",
        "outputId": "7de673bb-0321-45b0-f202-71c9f20bf0e6"
      },
      "execution_count": 4,
      "outputs": [
        {
          "output_type": "execute_result",
          "data": {
            "text/plain": [
              "2"
            ]
          },
          "metadata": {},
          "execution_count": 4
        }
      ]
    },
    {
      "cell_type": "code",
      "source": [
        "np.linalg.norm(a)"
      ],
      "metadata": {
        "colab": {
          "base_uri": "https://localhost:8080/"
        },
        "id": "hvR7e2vo7HIw",
        "outputId": "89b41aa1-a319-4c7f-e2b6-73e8d834caf9"
      },
      "execution_count": 5,
      "outputs": [
        {
          "output_type": "execute_result",
          "data": {
            "text/plain": [
              "2.23606797749979"
            ]
          },
          "metadata": {},
          "execution_count": 5
        }
      ]
    },
    {
      "cell_type": "code",
      "source": [
        "np.linalg.norm(b-a)\n",
        "np.linalg.norm(c-a)"
      ],
      "metadata": {
        "colab": {
          "base_uri": "https://localhost:8080/"
        },
        "id": "CVUCcMME7LiI",
        "outputId": "2476dc22-8700-456c-9fb1-e8faebb6423d"
      },
      "execution_count": 11,
      "outputs": [
        {
          "output_type": "execute_result",
          "data": {
            "text/plain": [
              "6.4031242374328485"
            ]
          },
          "metadata": {},
          "execution_count": 11
        }
      ]
    },
    {
      "cell_type": "code",
      "source": [
        "import scipy.spatial.distance as dst"
      ],
      "metadata": {
        "id": "EHBPuOTm7Rvo"
      },
      "execution_count": 12,
      "outputs": []
    },
    {
      "cell_type": "code",
      "source": [
        "dst.cityblock(a,b)"
      ],
      "metadata": {
        "colab": {
          "base_uri": "https://localhost:8080/"
        },
        "id": "kwhjIxLY8EHA",
        "outputId": "41366f12-abc7-41ff-9d52-5a574e056b56"
      },
      "execution_count": 13,
      "outputs": [
        {
          "output_type": "execute_result",
          "data": {
            "text/plain": [
              "1"
            ]
          },
          "metadata": {},
          "execution_count": 13
        }
      ]
    },
    {
      "cell_type": "code",
      "source": [
        "np.linalg.norm(c-a,2)"
      ],
      "metadata": {
        "colab": {
          "base_uri": "https://localhost:8080/"
        },
        "id": "rN44zAcA8Hyw",
        "outputId": "7933ccbf-0455-42f1-f40e-ee93131bfed9"
      },
      "execution_count": 15,
      "outputs": [
        {
          "output_type": "execute_result",
          "data": {
            "text/plain": [
              "6.4031242374328485"
            ]
          },
          "metadata": {},
          "execution_count": 15
        }
      ]
    },
    {
      "cell_type": "code",
      "source": [
        "dst.euclidean(a,b)"
      ],
      "metadata": {
        "colab": {
          "base_uri": "https://localhost:8080/"
        },
        "id": "BozIJJ928M05",
        "outputId": "d32a6344-fcc9-4368-b25b-26bc3e4f0e67"
      },
      "execution_count": 16,
      "outputs": [
        {
          "output_type": "execute_result",
          "data": {
            "text/plain": [
              "1.0"
            ]
          },
          "metadata": {},
          "execution_count": 16
        }
      ]
    },
    {
      "cell_type": "code",
      "source": [
        "d = np.array([1,0,0])\n",
        "e = np.array([1,1,0])\n",
        "dst.jaccard(d,e)"
      ],
      "metadata": {
        "colab": {
          "base_uri": "https://localhost:8080/"
        },
        "id": "P_dDvIAf8QxQ",
        "outputId": "7574a904-7941-46df-8d3d-1831921d1014"
      },
      "execution_count": 17,
      "outputs": [
        {
          "output_type": "execute_result",
          "data": {
            "text/plain": [
              "0.5"
            ]
          },
          "metadata": {},
          "execution_count": 17
        }
      ]
    },
    {
      "cell_type": "code",
      "source": [
        "dst.hamming(d,e)"
      ],
      "metadata": {
        "colab": {
          "base_uri": "https://localhost:8080/"
        },
        "id": "fHKPF0Yq8awZ",
        "outputId": "4b4a4a90-5ed3-44d3-965a-a781885f417b"
      },
      "execution_count": 18,
      "outputs": [
        {
          "output_type": "execute_result",
          "data": {
            "text/plain": [
              "0.3333333333333333"
            ]
          },
          "metadata": {},
          "execution_count": 18
        }
      ]
    },
    {
      "cell_type": "code",
      "source": [
        "np.dot(a,b)"
      ],
      "metadata": {
        "colab": {
          "base_uri": "https://localhost:8080/"
        },
        "id": "3CfUsfn18uHo",
        "outputId": "cc8af125-c63f-4a8d-beac-e7bb3ca8dee9"
      },
      "execution_count": 19,
      "outputs": [
        {
          "output_type": "execute_result",
          "data": {
            "text/plain": [
              "6"
            ]
          },
          "metadata": {},
          "execution_count": 19
        }
      ]
    },
    {
      "cell_type": "code",
      "source": [
        "Doc1 = 'banana apple apple eggplant'\n",
        "Doc2 = 'orange carrot banana eggplant'\n",
        "Doc3 = 'apple carrot banana banana'\n",
        "Doc4 = 'orange banana grape'"
      ],
      "metadata": {
        "id": "o_UG6MezBfkK"
      },
      "execution_count": 27,
      "outputs": []
    },
    {
      "cell_type": "code",
      "source": [
        "TEXT = [\n",
        "    'banana apple apple eggplant'\n",
        "    'orange carrot banana eggplant'\n",
        "    'apple carrot banana banana'\n",
        "    'orange banana grape'\n",
        "]"
      ],
      "metadata": {
        "id": "DHDoN7gdBGUn"
      },
      "execution_count": 28,
      "outputs": []
    },
    {
      "cell_type": "code",
      "source": [
        "from sklearn.feature_extraction.text import CountVectorizer"
      ],
      "metadata": {
        "id": "eyCVQp2B8ywY"
      },
      "execution_count": 29,
      "outputs": []
    },
    {
      "cell_type": "code",
      "source": [
        "tf_vectorizer = CountVectorizer(min_df=1, max_df=1.0, ngram_range=(1,1))"
      ],
      "metadata": {
        "id": "J-POBSkuA2kx"
      },
      "execution_count": 36,
      "outputs": []
    },
    {
      "cell_type": "code",
      "source": [
        "tf_features = tf_vectorizer.fit_transform(TEXT)"
      ],
      "metadata": {
        "id": "nay6fN0GA-3p"
      },
      "execution_count": 37,
      "outputs": []
    },
    {
      "cell_type": "code",
      "source": [
        "print(tf_features)"
      ],
      "metadata": {
        "colab": {
          "base_uri": "https://localhost:8080/"
        },
        "id": "pXN18KZNBZf5",
        "outputId": "36db6c34-54dd-4b42-af57-46ad55ffcdab"
      },
      "execution_count": 38,
      "outputs": [
        {
          "output_type": "stream",
          "name": "stdout",
          "text": [
            "  (0, 1)\t4\n",
            "  (0, 0)\t2\n",
            "  (0, 5)\t1\n",
            "  (0, 3)\t2\n",
            "  (0, 4)\t1\n",
            "  (0, 2)\t1\n",
            "  (0, 6)\t1\n"
          ]
        }
      ]
    },
    {
      "cell_type": "code",
      "source": [
        "features = tf_features.todense()"
      ],
      "metadata": {
        "id": "ttFmcWYlCrji"
      },
      "execution_count": 40,
      "outputs": []
    },
    {
      "cell_type": "code",
      "source": [
        "features"
      ],
      "metadata": {
        "colab": {
          "base_uri": "https://localhost:8080/"
        },
        "id": "tBK_uA5nE4F6",
        "outputId": "0a8459af-03dc-41f9-c64f-f77f09203eb6"
      },
      "execution_count": 41,
      "outputs": [
        {
          "output_type": "execute_result",
          "data": {
            "text/plain": [
              "matrix([[2, 4, 1, 2, 1, 1, 1]])"
            ]
          },
          "metadata": {},
          "execution_count": 41
        }
      ]
    },
    {
      "cell_type": "code",
      "source": [
        "features_names = tf_vectorizer.get_feature_names_out()"
      ],
      "metadata": {
        "id": "cQJNCZWFE-ci"
      },
      "execution_count": 43,
      "outputs": []
    },
    {
      "cell_type": "code",
      "source": [
        "print(features_names)"
      ],
      "metadata": {
        "colab": {
          "base_uri": "https://localhost:8080/"
        },
        "id": "vuFVs3WmFIa7",
        "outputId": "ea769de1-c319-4e28-947a-819b97200f9c"
      },
      "execution_count": 44,
      "outputs": [
        {
          "output_type": "stream",
          "name": "stdout",
          "text": [
            "['apple' 'banana' 'bananaorange' 'carrot' 'eggplantapple' 'eggplantorange'\n",
            " 'grape']\n"
          ]
        }
      ]
    },
    {
      "cell_type": "code",
      "source": [
        "from sklearn.feature_extraction.text import TfidfVectorizer"
      ],
      "metadata": {
        "id": "7sqR8KAhFNGy"
      },
      "execution_count": 45,
      "outputs": []
    },
    {
      "cell_type": "code",
      "source": [
        "tfidf_vectorizer = TfidfVectorizer(min_df=1, max_df=1, ngram_range=(1,1))"
      ],
      "metadata": {
        "id": "zgilEgoaFlei"
      },
      "execution_count": 48,
      "outputs": []
    },
    {
      "cell_type": "code",
      "source": [
        "tfidf_features = tfidf_vectorizer.fit_transform(TEXT)"
      ],
      "metadata": {
        "id": "2yghaWpSFp2T"
      },
      "execution_count": 49,
      "outputs": []
    },
    {
      "cell_type": "code",
      "source": [
        "print(tfidf_features)"
      ],
      "metadata": {
        "colab": {
          "base_uri": "https://localhost:8080/"
        },
        "id": "Frr4qK3zFscz",
        "outputId": "7e47026b-91ab-4c93-85d3-9709d68c32c4"
      },
      "execution_count": 50,
      "outputs": [
        {
          "output_type": "stream",
          "name": "stdout",
          "text": [
            "  (0, 1)\t0.7559289460184544\n",
            "  (0, 0)\t0.3779644730092272\n",
            "  (0, 5)\t0.1889822365046136\n",
            "  (0, 3)\t0.3779644730092272\n",
            "  (0, 4)\t0.1889822365046136\n",
            "  (0, 2)\t0.1889822365046136\n",
            "  (0, 6)\t0.1889822365046136\n"
          ]
        }
      ]
    },
    {
      "cell_type": "code",
      "source": [],
      "metadata": {
        "id": "H2NGLSVLF0Jd"
      },
      "execution_count": null,
      "outputs": []
    }
  ]
}