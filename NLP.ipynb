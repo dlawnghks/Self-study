{
  "nbformat": 4,
  "nbformat_minor": 0,
  "metadata": {
    "colab": {
      "provenance": [],
      "authorship_tag": "ABX9TyMLAg6GYYg6nHQ/HRE81LGE",
      "include_colab_link": true
    },
    "kernelspec": {
      "name": "python3",
      "display_name": "Python 3"
    },
    "language_info": {
      "name": "python"
    }
  },
  "cells": [
    {
      "cell_type": "markdown",
      "metadata": {
        "id": "view-in-github",
        "colab_type": "text"
      },
      "source": [
        "<a href=\"https://colab.research.google.com/github/dlawnghks/Self-study/blob/main/NLP.ipynb\" target=\"_parent\"><img src=\"https://colab.research.google.com/assets/colab-badge.svg\" alt=\"Open In Colab\"/></a>"
      ]
    },
    {
      "cell_type": "code",
      "source": [
        "!pip install konlpy\n",
        "!pip install nltk"
      ],
      "metadata": {
        "colab": {
          "base_uri": "https://localhost:8080/"
        },
        "id": "KCGZhBjVUJr5",
        "outputId": "4100de62-0996-45d5-b04e-c183935a5832"
      },
      "execution_count": 1,
      "outputs": [
        {
          "output_type": "stream",
          "name": "stdout",
          "text": [
            "Collecting konlpy\n",
            "  Downloading konlpy-0.6.0-py2.py3-none-any.whl.metadata (1.9 kB)\n",
            "Collecting JPype1>=0.7.0 (from konlpy)\n",
            "  Downloading jpype1-1.5.2-cp311-cp311-manylinux_2_17_x86_64.manylinux2014_x86_64.whl.metadata (4.9 kB)\n",
            "Requirement already satisfied: lxml>=4.1.0 in /usr/local/lib/python3.11/dist-packages (from konlpy) (5.3.0)\n",
            "Requirement already satisfied: numpy>=1.6 in /usr/local/lib/python3.11/dist-packages (from konlpy) (1.26.4)\n",
            "Requirement already satisfied: packaging in /usr/local/lib/python3.11/dist-packages (from JPype1>=0.7.0->konlpy) (24.2)\n",
            "Downloading konlpy-0.6.0-py2.py3-none-any.whl (19.4 MB)\n",
            "\u001b[2K   \u001b[90m━━━━━━━━━━━━━━━━━━━━━━━━━━━━━━━━━━━━━━━━\u001b[0m \u001b[32m19.4/19.4 MB\u001b[0m \u001b[31m29.4 MB/s\u001b[0m eta \u001b[36m0:00:00\u001b[0m\n",
            "\u001b[?25hDownloading jpype1-1.5.2-cp311-cp311-manylinux_2_17_x86_64.manylinux2014_x86_64.whl (494 kB)\n",
            "\u001b[2K   \u001b[90m━━━━━━━━━━━━━━━━━━━━━━━━━━━━━━━━━━━━━━━━\u001b[0m \u001b[32m494.1/494.1 kB\u001b[0m \u001b[31m22.8 MB/s\u001b[0m eta \u001b[36m0:00:00\u001b[0m\n",
            "\u001b[?25hInstalling collected packages: JPype1, konlpy\n",
            "Successfully installed JPype1-1.5.2 konlpy-0.6.0\n",
            "Requirement already satisfied: nltk in /usr/local/lib/python3.11/dist-packages (3.9.1)\n",
            "Requirement already satisfied: click in /usr/local/lib/python3.11/dist-packages (from nltk) (8.1.8)\n",
            "Requirement already satisfied: joblib in /usr/local/lib/python3.11/dist-packages (from nltk) (1.4.2)\n",
            "Requirement already satisfied: regex>=2021.8.3 in /usr/local/lib/python3.11/dist-packages (from nltk) (2024.11.6)\n",
            "Requirement already satisfied: tqdm in /usr/local/lib/python3.11/dist-packages (from nltk) (4.67.1)\n"
          ]
        }
      ]
    },
    {
      "cell_type": "code",
      "source": [
        "import nltk\n",
        "nltk.download('punkt')"
      ],
      "metadata": {
        "colab": {
          "base_uri": "https://localhost:8080/"
        },
        "id": "3JzHxBGMUOMG",
        "outputId": "5e858f24-e293-428a-dd8d-7a0be93f8582"
      },
      "execution_count": 2,
      "outputs": [
        {
          "output_type": "stream",
          "name": "stderr",
          "text": [
            "[nltk_data] Downloading package punkt to /root/nltk_data...\n",
            "[nltk_data]   Unzipping tokenizers/punkt.zip.\n"
          ]
        },
        {
          "output_type": "execute_result",
          "data": {
            "text/plain": [
              "True"
            ]
          },
          "metadata": {},
          "execution_count": 2
        }
      ]
    },
    {
      "cell_type": "markdown",
      "source": [
        "#형태소 = 언어에서 의미를 가진 최소의 단위"
      ],
      "metadata": {
        "id": "rTDfixfbU2mC"
      }
    },
    {
      "cell_type": "code",
      "source": [
        "from konlpy.tag import Okt\n",
        "from collections import Counter\n",
        "\n",
        "# 분석할 텍스트\n",
        "text = \"\"\"\n",
        "자연어 처리는 컴퓨터 과학과 인공지능의 한 분야로,\n",
        "컴퓨터가 인간의 언어를 이해하고 해석할 수 있도록 하는 기술입니다.\n",
        "텍스트 분석, 기계 번역, 감성 분석 등 다양한 응용 분야가 있습니다.\n",
        "\"\"\"\n",
        "\n",
        "# 형태소 분석기 초기화\n",
        "okt = Okt()\n",
        "\n",
        "# 텍스트를 명사 단위로 토큰화\n",
        "tokens = okt.nouns(text)\n",
        "\n",
        "# 단어의 빈도수 계산\n",
        "word_counts = Counter(tokens)\n",
        "\n",
        "# 결과 출력\n",
        "print(\"단어 빈도수:\")\n",
        "for word, count in word_counts.most_common():\n",
        "    print(f\"{word}: {count}\")\n"
      ],
      "metadata": {
        "colab": {
          "base_uri": "https://localhost:8080/"
        },
        "id": "7fTqbeotUSpl",
        "outputId": "36552595-465d-42af-eab1-ab0f6be70382"
      },
      "execution_count": 3,
      "outputs": [
        {
          "output_type": "stream",
          "name": "stdout",
          "text": [
            "단어 빈도수:\n",
            "컴퓨터: 2\n",
            "분야: 2\n",
            "분석: 2\n",
            "자연어: 1\n",
            "처리: 1\n",
            "과학: 1\n",
            "인공: 1\n",
            "지능: 1\n",
            "인간: 1\n",
            "언어: 1\n",
            "이해: 1\n",
            "해석: 1\n",
            "수: 1\n",
            "기술: 1\n",
            "텍스트: 1\n",
            "기계: 1\n",
            "번역: 1\n",
            "감성: 1\n",
            "등: 1\n",
            "응용: 1\n"
          ]
        }
      ]
    },
    {
      "cell_type": "code",
      "source": [
        "from konlpy.tag import Okt\n",
        "from collections import Counter\n",
        "\n",
        "# 분석할 텍스트\n",
        "text = input(\"분석할 텍스트를 입력하세요: \")\n",
        "\n",
        "# 형태소 분석기 초기화\n",
        "okt = Okt()\n",
        "\n",
        "# 텍스트를 명사 단위로 토큰화\n",
        "tokens = okt.nouns(text)\n",
        "\n",
        "# 단어의 빈도수 계산\n",
        "word_counts = Counter(tokens)\n",
        "\n",
        "# 결과 출력\n",
        "print(\"단어 빈도수:\")\n",
        "for word, count in word_counts.most_common():\n",
        "    print(f\"{word}: {count}\")\n"
      ],
      "metadata": {
        "id": "50LOmcwUUZBY",
        "colab": {
          "base_uri": "https://localhost:8080/"
        },
        "outputId": "6ab356ab-f165-481e-8b66-a6942eac184e"
      },
      "execution_count": 4,
      "outputs": [
        {
          "output_type": "stream",
          "name": "stdout",
          "text": [
            "분석할 텍스트를 입력하세요: 안녕하세요 반가워요 배고파요\n",
            "단어 빈도수:\n"
          ]
        }
      ]
    },
    {
      "cell_type": "code",
      "source": [
        "from konlpy.tag import Okt\n",
        "from collections import Counter\n",
        "\n",
        "# 사용자가 입력한 텍스트 받기\n",
        "text = input(\"분석할 문장을 입력하세요: \")\n",
        "\n",
        "# 형태소 분석기 초기화\n",
        "okt = Okt()\n",
        "\n",
        "# 텍스트를 형태소 단위로 분석\n",
        "tokens_with_tags = okt.pos(text)\n",
        "\n",
        "# 단어와 품사 분리\n",
        "tokens = [word for word, tag in tokens_with_tags]\n",
        "tags = {word: tag for word, tag in tokens_with_tags}\n",
        "\n",
        "# 단어의 빈도수 계산\n",
        "word_counts = Counter(tokens)\n",
        "\n",
        "# 결과 출력\n",
        "print(\"\\n단어 빈도수 및 품사:\")\n",
        "for word, count in word_counts.most_common():\n",
        "    print(f\"{word} ({tags[word]}): {count}번\")\n"
      ],
      "metadata": {
        "colab": {
          "base_uri": "https://localhost:8080/"
        },
        "id": "tMTnlZez9D2l",
        "outputId": "7ba99239-e1e0-4279-b30c-47979fe98469"
      },
      "execution_count": 5,
      "outputs": [
        {
          "output_type": "stream",
          "name": "stdout",
          "text": [
            "분석할 문장을 입력하세요: 안녕하세여\n",
            "\n",
            "단어 빈도수 및 품사:\n",
            "안녕하세여 (Adjective): 1번\n"
          ]
        }
      ]
    },
    {
      "cell_type": "code",
      "source": [
        "from konlpy.tag import Okt\n",
        "from collections import Counter\n",
        "\n",
        "\n",
        "food_data = {\n",
        "    \"매콤하고 달달하다\": \"떡볶이\",\n",
        "    \"달달하고 부드럽다\": \"케이크\",\n",
        "    \"바삭하고 짭짤하다\": \"치킨\",\n",
        "    \"고소하고 쫄깃하다\": \"김밥\",\n",
        "    \"새콤달콤하다\": \"탕수육\",\n",
        "}\n",
        "\n",
        "def predict_food(input_text):\n",
        "    okt = Okt()\n",
        "    tokens_with_tags = okt.pos(input_text)\n",
        "\n",
        "    tokens = [word for word, tag in tokens_with_tags if tag in [\"Adjective\", \"Noun\"]]\n",
        "    print(f\"추출된 키워드: {tokens}\")\n",
        "\n",
        "    for features, food in food_data.items():\n",
        "        feature_tokens = features.split()\n",
        "        if any(token in feature_tokens for token in tokens):\n",
        "            return food\n",
        "\n",
        "    return \"알 수 없는 음식\"\n",
        "\n",
        "text = input(\"음식의 특징을 입력하세요: \")\n",
        "predicted_food = predict_food(text)\n",
        "print(f\"예측된 음식: {predicted_food}\")\n"
      ],
      "metadata": {
        "colab": {
          "base_uri": "https://localhost:8080/"
        },
        "id": "8yrOw7sVGrsZ",
        "outputId": "723f23e0-bf2b-4935-f8c6-f0fe4640854f"
      },
      "execution_count": 6,
      "outputs": [
        {
          "output_type": "stream",
          "name": "stdout",
          "text": [
            "음식의 특징을 입력하세요: 매콤하다\n",
            "추출된 키워드: ['매콤']\n",
            "예측된 음식: 알 수 없는 음식\n"
          ]
        }
      ]
    },
    {
      "cell_type": "markdown",
      "source": [
        "데이터 추가 및 성능 개선 필요"
      ],
      "metadata": {
        "id": "4jvATA8kHUxr"
      }
    },
    {
      "cell_type": "code",
      "source": [
        "!pip install kiwipiepy\n",
        "from kiwipiepy import Kiwi\n",
        "kiwi = Kiwi()"
      ],
      "metadata": {
        "colab": {
          "base_uri": "https://localhost:8080/"
        },
        "id": "IIrP2hU0-kVW",
        "outputId": "0f0074fe-c0ad-491c-9074-4fa2cee5858c"
      },
      "execution_count": 7,
      "outputs": [
        {
          "output_type": "stream",
          "name": "stdout",
          "text": [
            "Collecting kiwipiepy\n",
            "  Downloading kiwipiepy-0.20.3-cp311-cp311-manylinux_2_17_x86_64.manylinux2014_x86_64.whl.metadata (1.1 kB)\n",
            "Collecting kiwipiepy_model<0.21,>=0.20 (from kiwipiepy)\n",
            "  Downloading kiwipiepy_model-0.20.0.tar.gz (34.7 MB)\n",
            "\u001b[2K     \u001b[90m━━━━━━━━━━━━━━━━━━━━━━━━━━━━━━━━━━━━━━━━\u001b[0m \u001b[32m34.7/34.7 MB\u001b[0m \u001b[31m46.3 MB/s\u001b[0m eta \u001b[36m0:00:00\u001b[0m\n",
            "\u001b[?25h  Preparing metadata (setup.py) ... \u001b[?25l\u001b[?25hdone\n",
            "Requirement already satisfied: numpy in /usr/local/lib/python3.11/dist-packages (from kiwipiepy) (1.26.4)\n",
            "Requirement already satisfied: tqdm in /usr/local/lib/python3.11/dist-packages (from kiwipiepy) (4.67.1)\n",
            "Downloading kiwipiepy-0.20.3-cp311-cp311-manylinux_2_17_x86_64.manylinux2014_x86_64.whl (3.6 MB)\n",
            "\u001b[2K   \u001b[90m━━━━━━━━━━━━━━━━━━━━━━━━━━━━━━━━━━━━━━━━\u001b[0m \u001b[32m3.6/3.6 MB\u001b[0m \u001b[31m86.0 MB/s\u001b[0m eta \u001b[36m0:00:00\u001b[0m\n",
            "\u001b[?25hBuilding wheels for collected packages: kiwipiepy_model\n",
            "  Building wheel for kiwipiepy_model (setup.py) ... \u001b[?25l\u001b[?25hdone\n",
            "  Created wheel for kiwipiepy_model: filename=kiwipiepy_model-0.20.0-py3-none-any.whl size=34818026 sha256=1bbf4a37592b4fa96cd19863acb401bc585385ea6e6dde801a1cca9ea11fdd91\n",
            "  Stored in directory: /root/.cache/pip/wheels/ca/c8/52/3a539d6e9065b191fe1c215e0203dcc3e00601c0e3d3d39824\n",
            "Successfully built kiwipiepy_model\n",
            "Installing collected packages: kiwipiepy_model, kiwipiepy\n",
            "Successfully installed kiwipiepy-0.20.3 kiwipiepy_model-0.20.0\n"
          ]
        }
      ]
    },
    {
      "cell_type": "code",
      "source": [
        "text = \"이것은 한글 형태소 분석 키위 분석기입니다.\"\n",
        "tokens = kiwi.tokenize(text)"
      ],
      "metadata": {
        "id": "xC7De9aT-2nl"
      },
      "execution_count": 8,
      "outputs": []
    },
    {
      "cell_type": "code",
      "source": [
        "nouns = []\n",
        "for token in kiwi.tokenize(text):\n",
        "    if 'NN' in token.tag:\n",
        "        nouns.append(token.form)"
      ],
      "metadata": {
        "id": "ukSHbZ1h_eQ0"
      },
      "execution_count": 9,
      "outputs": []
    },
    {
      "cell_type": "markdown",
      "source": [
        "키위 형태소 분석기 한글 분석을 위해 공부"
      ],
      "metadata": {
        "id": "ogxvpPyEBncr"
      }
    },
    {
      "cell_type": "code",
      "source": [
        "!pip install kiwipiepy\n",
        "from kiwipiepy import Kiwi"
      ],
      "metadata": {
        "id": "wDxWvyPzBnMc",
        "colab": {
          "base_uri": "https://localhost:8080/"
        },
        "outputId": "ae2d8790-1c66-4fca-ca07-de490dc0676c"
      },
      "execution_count": 10,
      "outputs": [
        {
          "output_type": "stream",
          "name": "stdout",
          "text": [
            "Requirement already satisfied: kiwipiepy in /usr/local/lib/python3.11/dist-packages (0.20.3)\n",
            "Requirement already satisfied: kiwipiepy_model<0.21,>=0.20 in /usr/local/lib/python3.11/dist-packages (from kiwipiepy) (0.20.0)\n",
            "Requirement already satisfied: numpy in /usr/local/lib/python3.11/dist-packages (from kiwipiepy) (1.26.4)\n",
            "Requirement already satisfied: tqdm in /usr/local/lib/python3.11/dist-packages (from kiwipiepy) (4.67.1)\n"
          ]
        }
      ]
    },
    {
      "cell_type": "code",
      "source": [
        "kiwi = Kiwi()\n",
        "\n",
        "text = input(\"분석할 텍스트를 입력하세요: \")\n",
        "\n",
        "tokens = kiwi.analyze(text) #형태소를 단위로 나눔\n",
        "print(\"\\n[1] 형태소 분석 결과:\")\n",
        "for token in tokens[0][0]:\n",
        "    print(f\"{token[0]} ({token[1]})\")\n",
        "\n",
        "stopwords = ['은', '는', '이', '가', '을', '를', '에', '의', '과', '와']  #불용어 제거\n",
        "filtered_tokens = [token[0] for token in tokens[0][0] if token[0] not in stopwords]\n",
        "print(\"\\n[2] 불용어 제거 후:\")\n",
        "print(filtered_tokens)\n",
        "\n",
        "nouns = [token[0] for token in tokens[0][0] if token[1] in ['NNG', 'NNP']]\n",
        "print(\"\\n[3] 텍스트에서 추출된 명사:\")\n",
        "print(nouns)\n",
        "\n",
        "unique_words = sorted(set(filtered_tokens))\n",
        "print(\"\\n[4] 중복 제거된 단어 리스트:\")\n",
        "print(unique_words)"
      ],
      "metadata": {
        "id": "tOQdLwf8ABl9",
        "colab": {
          "base_uri": "https://localhost:8080/"
        },
        "outputId": "c26754ae-79f4-40c3-dc0d-d68a07b3eece"
      },
      "execution_count": 11,
      "outputs": [
        {
          "output_type": "stream",
          "name": "stdout",
          "text": [
            "분석할 텍스트를 입력하세요: 안녕하세요 반가워요 자연어처리 공부중입니다\n",
            "\n",
            "[1] 형태소 분석 결과:\n",
            "안녕 (NNG)\n",
            "하 (XSA)\n",
            "세요 (EF)\n",
            "반갑 (VA-I)\n",
            "어요 (EF)\n",
            "자연어 처리 (NNP)\n",
            "공부 (NNG)\n",
            "중 (NNB)\n",
            "이 (VCP)\n",
            "ᆸ니다 (EF)\n",
            "\n",
            "[2] 불용어 제거 후:\n",
            "['안녕', '하', '세요', '반갑', '어요', '자연어 처리', '공부', '중', 'ᆸ니다']\n",
            "\n",
            "[3] 텍스트에서 추출된 명사:\n",
            "['안녕', '자연어 처리', '공부']\n",
            "\n",
            "[4] 중복 제거된 단어 리스트:\n",
            "['ᆸ니다', '공부', '반갑', '세요', '안녕', '어요', '자연어 처리', '중', '하']\n"
          ]
        }
      ]
    },
    {
      "cell_type": "markdown",
      "source": [
        "불용어 제거,키위 형태소로 코드 만들어 공부"
      ],
      "metadata": {
        "id": "KUZ6G3ok1G4P"
      }
    },
    {
      "cell_type": "code",
      "source": [
        "!pip install kiwipiepy wordcloud matplotlib\n",
        "!sudo apt-get install -y fonts-nanum\n",
        "!fc-cache -fv\n",
        "from kiwipiepy import Kiwi\n",
        "from wordcloud import WordCloud\n",
        "import matplotlib.pyplot as plt\n",
        "from collections import Counter\n",
        "\n",
        "kiwi = Kiwi()\n",
        "\n",
        "text = input(\"분석할 텍스트를 입력하세요: \")\n",
        "\n",
        "#형태소 분석 및 명사 추출\n",
        "tokens = kiwi.analyze(text)\n",
        "nouns = [token[0] for token in tokens[0][0] if token[1] in ['NNG', 'NNP']]  # 명사만 추출\n",
        "\n",
        "# 명사 빈도수 계산\n",
        "nouns_count = Counter(nouns)\n",
        "\n",
        "# 워드 클라우드 생성\n",
        "wordcloud = WordCloud(\n",
        "    font_path='/usr/share/fonts/truetype/nanum/NanumGothic.ttf',  # 한글 폰트 경로 설정\n",
        "    background_color='white',\n",
        "    width=800,\n",
        "    height=400\n",
        ").generate_from_frequencies(nouns_count)\n",
        "\n",
        "#워드 클라우드 시각화\n",
        "plt.figure(figsize=(10, 5))\n",
        "plt.imshow(wordcloud, interpolation='bilinear')\n",
        "plt.axis('off')  # 축 제거\n",
        "plt.title(\"Word Cloud\", fontsize=20)\n",
        "plt.show()\n"
      ],
      "metadata": {
        "id": "gy97iqvrW8y6",
        "colab": {
          "base_uri": "https://localhost:8080/",
          "height": 1000
        },
        "outputId": "43f8032e-eecf-4a8a-dd4c-10434a9b50aa"
      },
      "execution_count": 12,
      "outputs": [
        {
          "name": "stdout",
          "output_type": "stream",
          "text": [
            "Requirement already satisfied: kiwipiepy in /usr/local/lib/python3.11/dist-packages (0.20.3)\n",
            "Requirement already satisfied: wordcloud in /usr/local/lib/python3.11/dist-packages (1.9.4)\n",
            "Requirement already satisfied: matplotlib in /usr/local/lib/python3.11/dist-packages (3.10.0)\n",
            "Requirement already satisfied: kiwipiepy_model<0.21,>=0.20 in /usr/local/lib/python3.11/dist-packages (from kiwipiepy) (0.20.0)\n",
            "Requirement already satisfied: numpy in /usr/local/lib/python3.11/dist-packages (from kiwipiepy) (1.26.4)\n",
            "Requirement already satisfied: tqdm in /usr/local/lib/python3.11/dist-packages (from kiwipiepy) (4.67.1)\n",
            "Requirement already satisfied: pillow in /usr/local/lib/python3.11/dist-packages (from wordcloud) (11.1.0)\n",
            "Requirement already satisfied: contourpy>=1.0.1 in /usr/local/lib/python3.11/dist-packages (from matplotlib) (1.3.1)\n",
            "Requirement already satisfied: cycler>=0.10 in /usr/local/lib/python3.11/dist-packages (from matplotlib) (0.12.1)\n",
            "Requirement already satisfied: fonttools>=4.22.0 in /usr/local/lib/python3.11/dist-packages (from matplotlib) (4.55.8)\n",
            "Requirement already satisfied: kiwisolver>=1.3.1 in /usr/local/lib/python3.11/dist-packages (from matplotlib) (1.4.8)\n",
            "Requirement already satisfied: packaging>=20.0 in /usr/local/lib/python3.11/dist-packages (from matplotlib) (24.2)\n",
            "Requirement already satisfied: pyparsing>=2.3.1 in /usr/local/lib/python3.11/dist-packages (from matplotlib) (3.2.1)\n",
            "Requirement already satisfied: python-dateutil>=2.7 in /usr/local/lib/python3.11/dist-packages (from matplotlib) (2.8.2)\n",
            "Requirement already satisfied: six>=1.5 in /usr/local/lib/python3.11/dist-packages (from python-dateutil>=2.7->matplotlib) (1.17.0)\n",
            "Reading package lists... Done\n",
            "Building dependency tree... Done\n",
            "Reading state information... Done\n",
            "The following NEW packages will be installed:\n",
            "  fonts-nanum\n",
            "0 upgraded, 1 newly installed, 0 to remove and 20 not upgraded.\n",
            "Need to get 10.3 MB of archives.\n",
            "After this operation, 34.1 MB of additional disk space will be used.\n",
            "Get:1 http://archive.ubuntu.com/ubuntu jammy/universe amd64 fonts-nanum all 20200506-1 [10.3 MB]\n",
            "Fetched 10.3 MB in 0s (25.2 MB/s)\n",
            "debconf: unable to initialize frontend: Dialog\n",
            "debconf: (No usable dialog-like program is installed, so the dialog based frontend cannot be used. at /usr/share/perl5/Debconf/FrontEnd/Dialog.pm line 78, <> line 1.)\n",
            "debconf: falling back to frontend: Readline\n",
            "debconf: unable to initialize frontend: Readline\n",
            "debconf: (This frontend requires a controlling tty.)\n",
            "debconf: falling back to frontend: Teletype\n",
            "dpkg-preconfigure: unable to re-open stdin: \n",
            "Selecting previously unselected package fonts-nanum.\n",
            "(Reading database ... 124926 files and directories currently installed.)\n",
            "Preparing to unpack .../fonts-nanum_20200506-1_all.deb ...\n",
            "Unpacking fonts-nanum (20200506-1) ...\n",
            "Setting up fonts-nanum (20200506-1) ...\n",
            "Processing triggers for fontconfig (2.13.1-4.2ubuntu5) ...\n",
            "/usr/share/fonts: caching, new cache contents: 0 fonts, 1 dirs\n",
            "/usr/share/fonts/truetype: caching, new cache contents: 0 fonts, 3 dirs\n",
            "/usr/share/fonts/truetype/humor-sans: caching, new cache contents: 1 fonts, 0 dirs\n",
            "/usr/share/fonts/truetype/liberation: caching, new cache contents: 16 fonts, 0 dirs\n",
            "/usr/share/fonts/truetype/nanum: caching, new cache contents: 12 fonts, 0 dirs\n",
            "/usr/local/share/fonts: caching, new cache contents: 0 fonts, 0 dirs\n",
            "/root/.local/share/fonts: skipping, no such directory\n",
            "/root/.fonts: skipping, no such directory\n",
            "/usr/share/fonts/truetype: skipping, looped directory detected\n",
            "/usr/share/fonts/truetype/humor-sans: skipping, looped directory detected\n",
            "/usr/share/fonts/truetype/liberation: skipping, looped directory detected\n",
            "/usr/share/fonts/truetype/nanum: skipping, looped directory detected\n",
            "/var/cache/fontconfig: cleaning cache directory\n",
            "/root/.cache/fontconfig: not cleaning non-existent cache directory\n",
            "/root/.fontconfig: not cleaning non-existent cache directory\n",
            "fc-cache: succeeded\n",
            "분석할 텍스트를 입력하세요: 자연어 공부 어렵다\n"
          ]
        },
        {
          "output_type": "display_data",
          "data": {
            "text/plain": [
              "<Figure size 1000x500 with 1 Axes>"
            ],
            "image/png": "[encoded data removed]"
          },
          "metadata": {}
        }
      ]
    },
    {
      "cell_type": "markdown",
      "source": [
        "한글 워드 클라우드 생성"
      ],
      "metadata": {
        "id": "OoqrVyaiExH-"
      }
    },
    {
      "cell_type": "code",
      "source": [
        "import numpy as np"
      ],
      "metadata": {
        "id": "mDonq_WO1WdA"
      },
      "execution_count": 13,
      "outputs": []
    },
    {
      "cell_type": "code",
      "source": [
        "a = np.array([1, 2])\n",
        "b = np.array([2, 2])\n",
        "c = np.array([-3, -3])"
      ],
      "metadata": {
        "id": "bempNAaB7BIx"
      },
      "execution_count": 14,
      "outputs": []
    },
    {
      "cell_type": "code",
      "source": [
        "a.shape"
      ],
      "metadata": {
        "colab": {
          "base_uri": "https://localhost:8080/"
        },
        "id": "SRrv24kt7EgQ",
        "outputId": "1fab7ab3-56fd-44ac-f761-98e1c01f2f32"
      },
      "execution_count": 15,
      "outputs": [
        {
          "output_type": "execute_result",
          "data": {
            "text/plain": [
              "(2,)"
            ]
          },
          "metadata": {},
          "execution_count": 15
        }
      ]
    },
    {
      "cell_type": "code",
      "source": [
        "len(a)"
      ],
      "metadata": {
        "colab": {
          "base_uri": "https://localhost:8080/"
        },
        "id": "c8hadwfH7Fi4",
        "outputId": "4ae866c9-eb21-4739-a3e8-c3c748a233c3"
      },
      "execution_count": 16,
      "outputs": [
        {
          "output_type": "execute_result",
          "data": {
            "text/plain": [
              "2"
            ]
          },
          "metadata": {},
          "execution_count": 16
        }
      ]
    },
    {
      "cell_type": "code",
      "source": [
        "np.linalg.norm(a)"
      ],
      "metadata": {
        "colab": {
          "base_uri": "https://localhost:8080/"
        },
        "id": "hvR7e2vo7HIw",
        "outputId": "1f9e8118-c099-4ef4-ecfe-f92c651c2e37"
      },
      "execution_count": 17,
      "outputs": [
        {
          "output_type": "execute_result",
          "data": {
            "text/plain": [
              "2.23606797749979"
            ]
          },
          "metadata": {},
          "execution_count": 17
        }
      ]
    },
    {
      "cell_type": "code",
      "source": [
        "np.linalg.norm(b-a)\n",
        "np.linalg.norm(c-a)"
      ],
      "metadata": {
        "colab": {
          "base_uri": "https://localhost:8080/"
        },
        "id": "CVUCcMME7LiI",
        "outputId": "a28d4485-1508-4a30-b707-efc836898318"
      },
      "execution_count": 18,
      "outputs": [
        {
          "output_type": "execute_result",
          "data": {
            "text/plain": [
              "6.4031242374328485"
            ]
          },
          "metadata": {},
          "execution_count": 18
        }
      ]
    },
    {
      "cell_type": "code",
      "source": [
        "import scipy.spatial.distance as dst"
      ],
      "metadata": {
        "id": "EHBPuOTm7Rvo"
      },
      "execution_count": 19,
      "outputs": []
    },
    {
      "cell_type": "code",
      "source": [
        "dst.cityblock(a,b)"
      ],
      "metadata": {
        "colab": {
          "base_uri": "https://localhost:8080/"
        },
        "id": "kwhjIxLY8EHA",
        "outputId": "e2cf1884-64c1-4e94-dade-dd43a08c1d97"
      },
      "execution_count": 20,
      "outputs": [
        {
          "output_type": "execute_result",
          "data": {
            "text/plain": [
              "1"
            ]
          },
          "metadata": {},
          "execution_count": 20
        }
      ]
    },
    {
      "cell_type": "code",
      "source": [
        "np.linalg.norm(c-a,2)"
      ],
      "metadata": {
        "colab": {
          "base_uri": "https://localhost:8080/"
        },
        "id": "rN44zAcA8Hyw",
        "outputId": "f7c8440a-4276-475f-eb55-831568b96668"
      },
      "execution_count": 21,
      "outputs": [
        {
          "output_type": "execute_result",
          "data": {
            "text/plain": [
              "6.4031242374328485"
            ]
          },
          "metadata": {},
          "execution_count": 21
        }
      ]
    },
    {
      "cell_type": "code",
      "source": [
        "dst.euclidean(a,b)"
      ],
      "metadata": {
        "colab": {
          "base_uri": "https://localhost:8080/"
        },
        "id": "BozIJJ928M05",
        "outputId": "b8e93429-862a-4a5e-cad2-9cee56fefaac"
      },
      "execution_count": 22,
      "outputs": [
        {
          "output_type": "execute_result",
          "data": {
            "text/plain": [
              "1.0"
            ]
          },
          "metadata": {},
          "execution_count": 22
        }
      ]
    },
    {
      "cell_type": "code",
      "source": [
        "d = np.array([1,0,0])\n",
        "e = np.array([1,1,0])\n",
        "dst.jaccard(d,e)"
      ],
      "metadata": {
        "colab": {
          "base_uri": "https://localhost:8080/"
        },
        "id": "P_dDvIAf8QxQ",
        "outputId": "0eae5a0c-0369-4aa6-cedd-79ed418f8429"
      },
      "execution_count": 23,
      "outputs": [
        {
          "output_type": "execute_result",
          "data": {
            "text/plain": [
              "0.5"
            ]
          },
          "metadata": {},
          "execution_count": 23
        }
      ]
    },
    {
      "cell_type": "code",
      "source": [
        "dst.hamming(d,e)"
      ],
      "metadata": {
        "colab": {
          "base_uri": "https://localhost:8080/"
        },
        "id": "fHKPF0Yq8awZ",
        "outputId": "9f680522-7a67-4dbb-f27b-7bcd50b62c47"
      },
      "execution_count": 24,
      "outputs": [
        {
          "output_type": "execute_result",
          "data": {
            "text/plain": [
              "0.3333333333333333"
            ]
          },
          "metadata": {},
          "execution_count": 24
        }
      ]
    },
    {
      "cell_type": "code",
      "source": [
        "np.dot(a,b)"
      ],
      "metadata": {
        "colab": {
          "base_uri": "https://localhost:8080/"
        },
        "id": "3CfUsfn18uHo",
        "outputId": "88aadc11-2d3c-4584-a74a-e3296905b39a"
      },
      "execution_count": 25,
      "outputs": [
        {
          "output_type": "execute_result",
          "data": {
            "text/plain": [
              "6"
            ]
          },
          "metadata": {},
          "execution_count": 25
        }
      ]
    },
    {
      "cell_type": "code",
      "source": [
        "Doc1 = 'banana apple apple eggplant'\n",
        "Doc2 = 'orange carrot banana eggplant'\n",
        "Doc3 = 'apple carrot banana banana'\n",
        "Doc4 = 'orange banana grape'"
      ],
      "metadata": {
        "id": "o_UG6MezBfkK"
      },
      "execution_count": 26,
      "outputs": []
    },
    {
      "cell_type": "code",
      "source": [
        "TEXT = [\n",
        "    'banana apple apple eggplant'\n",
        "    'orange carrot banana eggplant'\n",
        "    'apple carrot banana banana'\n",
        "    'orange banana grape'\n",
        "]"
      ],
      "metadata": {
        "id": "DHDoN7gdBGUn"
      },
      "execution_count": 27,
      "outputs": []
    },
    {
      "cell_type": "code",
      "source": [
        "from sklearn.feature_extraction.text import CountVectorizer"
      ],
      "metadata": {
        "id": "eyCVQp2B8ywY"
      },
      "execution_count": 28,
      "outputs": []
    },
    {
      "cell_type": "code",
      "source": [
        "tf_vectorizer = CountVectorizer(min_df=1, max_df=1.0, ngram_range=(1,1))"
      ],
      "metadata": {
        "id": "J-POBSkuA2kx"
      },
      "execution_count": 29,
      "outputs": []
    },
    {
      "cell_type": "code",
      "source": [
        "tf_features = tf_vectorizer.fit_transform(TEXT)"
      ],
      "metadata": {
        "id": "nay6fN0GA-3p"
      },
      "execution_count": 30,
      "outputs": []
    },
    {
      "cell_type": "code",
      "source": [
        "print(tf_features)"
      ],
      "metadata": {
        "colab": {
          "base_uri": "https://localhost:8080/"
        },
        "id": "pXN18KZNBZf5",
        "outputId": "dd6849a6-f02e-4f14-b773-94911b1ee856"
      },
      "execution_count": 31,
      "outputs": [
        {
          "output_type": "stream",
          "name": "stdout",
          "text": [
            "  (0, 1)\t4\n",
            "  (0, 0)\t2\n",
            "  (0, 5)\t1\n",
            "  (0, 3)\t2\n",
            "  (0, 4)\t1\n",
            "  (0, 2)\t1\n",
            "  (0, 6)\t1\n"
          ]
        }
      ]
    },
    {
      "cell_type": "code",
      "source": [
        "features = tf_features.todense()"
      ],
      "metadata": {
        "id": "ttFmcWYlCrji"
      },
      "execution_count": 32,
      "outputs": []
    },
    {
      "cell_type": "code",
      "source": [
        "features"
      ],
      "metadata": {
        "colab": {
          "base_uri": "https://localhost:8080/"
        },
        "id": "tBK_uA5nE4F6",
        "outputId": "6b558839-4bc7-4d57-eca1-20f40c9d21e4"
      },
      "execution_count": 33,
      "outputs": [
        {
          "output_type": "execute_result",
          "data": {
            "text/plain": [
              "matrix([[2, 4, 1, 2, 1, 1, 1]])"
            ]
          },
          "metadata": {},
          "execution_count": 33
        }
      ]
    },
    {
      "cell_type": "code",
      "source": [
        "features_names = tf_vectorizer.get_feature_names_out()"
      ],
      "metadata": {
        "id": "cQJNCZWFE-ci"
      },
      "execution_count": 34,
      "outputs": []
    },
    {
      "cell_type": "code",
      "source": [
        "print(features_names)"
      ],
      "metadata": {
        "colab": {
          "base_uri": "https://localhost:8080/"
        },
        "id": "vuFVs3WmFIa7",
        "outputId": "177ed86b-8ac1-4be2-9e54-50de13d8de3b"
      },
      "execution_count": 35,
      "outputs": [
        {
          "output_type": "stream",
          "name": "stdout",
          "text": [
            "['apple' 'banana' 'bananaorange' 'carrot' 'eggplantapple' 'eggplantorange'\n",
            " 'grape']\n"
          ]
        }
      ]
    },
    {
      "cell_type": "code",
      "source": [
        "from sklearn.feature_extraction.text import TfidfVectorizer"
      ],
      "metadata": {
        "id": "7sqR8KAhFNGy"
      },
      "execution_count": 36,
      "outputs": []
    },
    {
      "cell_type": "code",
      "source": [
        "tfidf_vectorizer = TfidfVectorizer(min_df=1, max_df=1, ngram_range=(1,1))"
      ],
      "metadata": {
        "id": "zgilEgoaFlei"
      },
      "execution_count": 37,
      "outputs": []
    },
    {
      "cell_type": "code",
      "source": [
        "tfidf_features = tfidf_vectorizer.fit_transform(TEXT)"
      ],
      "metadata": {
        "id": "2yghaWpSFp2T"
      },
      "execution_count": 38,
      "outputs": []
    },
    {
      "cell_type": "code",
      "source": [
        "print(tfidf_features)"
      ],
      "metadata": {
        "colab": {
          "base_uri": "https://localhost:8080/"
        },
        "id": "Frr4qK3zFscz",
        "outputId": "0cc01738-9061-441e-af37-afb2ad51afca"
      },
      "execution_count": 39,
      "outputs": [
        {
          "output_type": "stream",
          "name": "stdout",
          "text": [
            "  (0, 1)\t0.7559289460184544\n",
            "  (0, 0)\t0.3779644730092272\n",
            "  (0, 5)\t0.1889822365046136\n",
            "  (0, 3)\t0.3779644730092272\n",
            "  (0, 4)\t0.1889822365046136\n",
            "  (0, 2)\t0.1889822365046136\n",
            "  (0, 6)\t0.1889822365046136\n"
          ]
        }
      ]
    },
    {
      "cell_type": "code",
      "source": [
        "import re\n",
        "from konlpy.tag import Okt\n",
        "from sklearn.feature_extraction.text import TfidfVectorizer\n",
        "from sklearn.linear_model import LogisticRegression\n",
        "from sklearn.pipeline import Pipeline\n",
        "\n",
        "# --- 1. 데이터 준비 ---\n",
        "# 간단한 예제 데이터: (문장, 의도) 쌍\n",
        "data = [\n",
        "    (\"안녕하세요, 오늘 기분이 좋아요\", \"인사\"),\n",
        "    (\"예약을 하고 싶어요\", \"예약\"),\n",
        "    (\"안녕, 반갑습니다\", \"인사\"),\n",
        "    (\"내일 3시에 회의 예약해줘\", \"예약\"),\n",
        "    (\"좋은 아침이에요\", \"인사\"),\n",
        "    (\"이번 주 금요일에 레스토랑 예약 부탁해요\", \"예약\")\n",
        "]\n",
        "\n",
        "texts, labels = zip(*data)\n",
        "\n",
        "# --- 2. 텍스트 전처리: KoNLPy의 Okt를 활용한 토큰화 ---\n",
        "okt = Okt()\n",
        "\n",
        "def tokenizer(text):\n",
        "    \"\"\"\n",
        "    Okt 형태소 분석기를 활용해 문장을 토큰화합니다.\n",
        "    (예시에서는 단순히 모든 형태소를 추출)\n",
        "    \"\"\"\n",
        "    return okt.morphs(text)\n",
        "\n",
        "# --- 3. 의도 인식 모델 구축 ---\n",
        "# TF-IDF 벡터화와 로지스틱 회귀를 결합한 파이프라인 생성\n",
        "intent_pipeline = Pipeline([\n",
        "    ('tfidf', TfidfVectorizer(tokenizer=tokenizer, token_pattern=None)),  # token_pattern=None: 사용자 지정 토크나이저 사용\n",
        "    ('clf', LogisticRegression())\n",
        "])\n",
        "\n",
        "# 모델 학습\n",
        "intent_pipeline.fit(texts, labels)\n",
        "\n",
        "# 테스트 문장에 대해 의도 예측\n",
        "test_text = input(\"문장을 입력하세요\")\n",
        "predicted_intent = intent_pipeline.predict([test_text])[0]\n",
        "print(\"입력 문장:\", test_text)\n",
        "print(\"예측된 의도:\", predicted_intent)\n",
        "\n",
        "# --- 4. 간단한 엔티티 인식 (NER) ---\n",
        "def simple_ner(text):\n",
        "    \"\"\"\n",
        "    정규표현식을 이용해 텍스트에서 시간, 요일, 날짜 등의 엔티티를 추출합니다.\n",
        "    \"\"\"\n",
        "    entities = {}\n",
        "\n",
        "    # 시간 추출 (예: '3시', '10시')\n",
        "    time_pattern = re.compile(r'(\\d{1,2}시)')\n",
        "    times = time_pattern.findall(text)\n",
        "    if times:\n",
        "        entities['시간'] = times\n",
        "\n",
        "    # 요일 추출 (예: '월요일', '화요일', ...)\n",
        "    day_pattern = re.compile(r'(월요일|화요일|수요일|목요일|금요일|토요일|일요일)')\n",
        "    days = day_pattern.findall(text)\n",
        "    if days:\n",
        "        entities['요일'] = days\n",
        "\n",
        "    # 날짜 추출 (예: '5일', '12일')\n",
        "    date_pattern = re.compile(r'(\\d{1,2}일)')\n",
        "    dates = date_pattern.findall(text)\n",
        "    if dates:\n",
        "        entities['날짜'] = dates\n",
        "\n",
        "    return entities\n",
        "\n",
        "# 엔티티 인식 테스트\n",
        "ner_test_text = test_text\n",
        "entities = simple_ner(ner_test_text)\n",
        "print(\"엔티티 인식 결과:\", entities)\n"
      ],
      "metadata": {
        "id": "H2NGLSVLF0Jd",
        "colab": {
          "base_uri": "https://localhost:8080/"
        },
        "outputId": "0e9076c2-c363-4757-ee03-00137038c933"
      },
      "execution_count": 46,
      "outputs": [
        {
          "output_type": "stream",
          "name": "stdout",
          "text": [
            "문장을 입력하세요내일 3시 가능할까요\n",
            "입력 문장: 내일 3시 가능할까요\n",
            "예측된 의도: 예약\n",
            "엔티티 인식 결과: {'시간': ['3시']}\n"
          ]
        }
      ]
    },
    {
      "cell_type": "code",
      "source": [
        "import re\n",
        "from konlpy.tag import Okt\n",
        "from sklearn.feature_extraction.text import TfidfVectorizer\n",
        "from sklearn.linear_model import LogisticRegression\n",
        "from sklearn.pipeline import Pipeline\n",
        "from sklearn.model_selection import train_test_split, cross_val_score\n",
        "from sklearn.metrics import classification_report\n",
        "\n",
        "# --- 1. 데이터 준비 ---\n",
        "# 간단한 예제 데이터: (문장, 의도) 쌍\n",
        "data = [\n",
        "    (\"안녕하세요, 오늘 기분이 좋아요\", \"인사\"),\n",
        "    (\"예약을 하고 싶어요\", \"예약\"),\n",
        "    (\"안녕, 반갑습니다\", \"인사\"),\n",
        "    (\"내일 3시에 회의 예약해줘\", \"예약\"),\n",
        "    (\"좋은 아침이에요\", \"인사\"),\n",
        "    (\"이번 주 금요일에 레스토랑 예약 부탁해요\", \"예약\")\n",
        "]\n",
        "texts, labels = zip(*data)\n",
        "\n",
        "# --- 2. 텍스트 전처리: 클리닝 및 토큰화 ---\n",
        "# 2-1. 텍스트 클리닝 함수 (필요시 확장 가능)\n",
        "def clean_text(text):\n",
        "    \"\"\"\n",
        "    입력된 텍스트에서 양쪽 공백을 제거하고,\n",
        "    추가로 불필요한 특수문자 제거 등의 작업을 할 수 있습니다.\n",
        "    \"\"\"\n",
        "    text = text.strip()\n",
        "    # 예시: 한글, 숫자, 공백을 제외한 모든 문자를 제거하려면 아래와 같이 할 수 있습니다.\n",
        "    # text = re.sub(r'[^\\w\\s가-힣]', '', text)\n",
        "    return text\n",
        "\n",
        "# 2-2. 토큰화 함수: KoNLPy의 Okt를 사용하여 형태소 단위로 분리\n",
        "okt = Okt()\n",
        "def tokenizer(text):\n",
        "    \"\"\"\n",
        "    텍스트를 클리닝한 후, Okt 형태소 분석기로 토큰화합니다.\n",
        "    :param text: 문자열\n",
        "    :return: 형태소 토큰 리스트\n",
        "    \"\"\"\n",
        "    text = clean_text(text)\n",
        "    tokens = okt.morphs(text)\n",
        "    return tokens\n",
        "\n",
        "# --- 3. 의도 인식 모델 구축 및 평가 ---\n",
        "# TF-IDF 벡터화와 로지스틱 회귀를 결합한 파이프라인 생성\n",
        "intent_pipeline = Pipeline([\n",
        "    ('tfidf', TfidfVectorizer(tokenizer=tokenizer, token_pattern=None)),  # 사용자 지정 토크나이저 사용\n",
        "    ('clf', LogisticRegression(max_iter=200))  # max_iter를 늘려 수렴 문제 방지\n",
        "])\n",
        "\n",
        "# 3-2. 학습/테스트 셋 분리 후 상세 평가\n",
        "X_train, X_test, y_train, y_test = train_test_split(texts, labels, test_size=0.33, random_state=42)\n",
        "intent_pipeline.fit(X_train, y_train)\n",
        "y_pred = intent_pipeline.predict(X_test)\n",
        "\n",
        "\n",
        "# 3-3. 사용자 입력을 통한 예측 (Colab에서 실행 시 입력창이 뜹니다)\n",
        "test_text = input(\"\\n문장을 입력하세요: \")\n",
        "predicted_intent = intent_pipeline.predict([test_text])[0]\n",
        "print(\"\\n입력 문장:\", test_text)\n",
        "print(\"예측된 의도:\", predicted_intent)\n",
        "\n",
        "# --- 4. 간단한 엔티티 인식 (NER) ---\n",
        "def simple_ner(text):\n",
        "    \"\"\"\n",
        "    정규표현식을 이용해 텍스트에서 시간, 요일, 날짜, 그리고 연도 등의 엔티티를 추출합니다.\n",
        "    이 함수는 예시이므로 필요에 따라 더 많은 엔티티 패턴을 추가할 수 있습니다.\n",
        "    \"\"\"\n",
        "    entities = {}\n",
        "\n",
        "    # 시간 추출 (예: '3시', '10시')\n",
        "    time_pattern = re.compile(r'(\\d{1,2}시)')\n",
        "    times = time_pattern.findall(text)\n",
        "    if times:\n",
        "        entities['시간'] = times\n",
        "\n",
        "    # 요일 추출 (예: '월요일', '화요일', ...)\n",
        "    day_pattern = re.compile(r'(월요일|화요일|수요일|목요일|금요일|토요일|일요일)')\n",
        "    days = day_pattern.findall(text)\n",
        "    if days:\n",
        "        entities['요일'] = days\n",
        "\n",
        "    # 날짜 추출 (예: '5일', '12일')\n",
        "    date_pattern = re.compile(r'(\\d{1,2}일)')\n",
        "    dates = date_pattern.findall(text)\n",
        "    if dates:\n",
        "        entities['날짜'] = dates\n",
        "\n",
        "    # 추가: 연도 추출 (예: '2023년')\n",
        "    year_pattern = re.compile(r'(\\d{4}년)')\n",
        "    years = year_pattern.findall(text)\n",
        "    if years:\n",
        "        entities['연도'] = years\n",
        "\n",
        "    return entities\n",
        "\n",
        "# 4-1. 엔티티 인식: 사용자 입력 문장에 대해 실행\n",
        "print(\"\\n엔티티 인식 결과 (입력 문장):\")\n",
        "user_entities = simple_ner(test_text)\n",
        "print(\"입력 문장에 대한 엔티티:\", user_entities)"
      ],
      "metadata": {
        "colab": {
          "base_uri": "https://localhost:8080/"
        },
        "id": "CuZ-CPrmCZQL",
        "outputId": "48956743-f44d-4a3c-ce1d-0149a05d7ab6"
      },
      "execution_count": 50,
      "outputs": [
        {
          "output_type": "stream",
          "name": "stdout",
          "text": [
            "\n",
            "문장을 입력하세요: 2시에 봐요\n",
            "\n",
            "입력 문장: 2시에 봐요\n",
            "예측된 의도: 예약\n",
            "\n",
            "엔티티 인식 결과 (입력 문장):\n",
            "입력 문장에 대한 엔티티: {'시간': ['2시']}\n"
          ]
        }
      ]
    },
    {
      "cell_type": "code",
      "source": [
        "!pip install transformers"
      ],
      "metadata": {
        "colab": {
          "base_uri": "https://localhost:8080/"
        },
        "id": "lHPo2G3Tbf_P",
        "outputId": "a6ff3c9d-53af-4fb7-85bf-610f35ff94ff"
      },
      "execution_count": 53,
      "outputs": [
        {
          "output_type": "stream",
          "name": "stdout",
          "text": [
            "Requirement already satisfied: transformers in /usr/local/lib/python3.11/dist-packages (4.48.2)\n",
            "Requirement already satisfied: filelock in /usr/local/lib/python3.11/dist-packages (from transformers) (3.17.0)\n",
            "Requirement already satisfied: huggingface-hub<1.0,>=0.24.0 in /usr/local/lib/python3.11/dist-packages (from transformers) (0.28.1)\n",
            "Requirement already satisfied: numpy>=1.17 in /usr/local/lib/python3.11/dist-packages (from transformers) (1.26.4)\n",
            "Requirement already satisfied: packaging>=20.0 in /usr/local/lib/python3.11/dist-packages (from transformers) (24.2)\n",
            "Requirement already satisfied: pyyaml>=5.1 in /usr/local/lib/python3.11/dist-packages (from transformers) (6.0.2)\n",
            "Requirement already satisfied: regex!=2019.12.17 in /usr/local/lib/python3.11/dist-packages (from transformers) (2024.11.6)\n",
            "Requirement already satisfied: requests in /usr/local/lib/python3.11/dist-packages (from transformers) (2.32.3)\n",
            "Requirement already satisfied: tokenizers<0.22,>=0.21 in /usr/local/lib/python3.11/dist-packages (from transformers) (0.21.0)\n",
            "Requirement already satisfied: safetensors>=0.4.1 in /usr/local/lib/python3.11/dist-packages (from transformers) (0.5.2)\n",
            "Requirement already satisfied: tqdm>=4.27 in /usr/local/lib/python3.11/dist-packages (from transformers) (4.67.1)\n",
            "Requirement already satisfied: fsspec>=2023.5.0 in /usr/local/lib/python3.11/dist-packages (from huggingface-hub<1.0,>=0.24.0->transformers) (2024.10.0)\n",
            "Requirement already satisfied: typing-extensions>=3.7.4.3 in /usr/local/lib/python3.11/dist-packages (from huggingface-hub<1.0,>=0.24.0->transformers) (4.12.2)\n",
            "Requirement already satisfied: charset-normalizer<4,>=2 in /usr/local/lib/python3.11/dist-packages (from requests->transformers) (3.4.1)\n",
            "Requirement already satisfied: idna<4,>=2.5 in /usr/local/lib/python3.11/dist-packages (from requests->transformers) (3.10)\n",
            "Requirement already satisfied: urllib3<3,>=1.21.1 in /usr/local/lib/python3.11/dist-packages (from requests->transformers) (2.3.0)\n",
            "Requirement already satisfied: certifi>=2017.4.17 in /usr/local/lib/python3.11/dist-packages (from requests->transformers) (2025.1.31)\n"
          ]
        }
      ]
    },
    {
      "cell_type": "code",
      "source": [
        "import torch\n",
        "from transformers import AutoModelForCausalLM, AutoTokenizer\n",
        "\n",
        "model_name = \"microsoft/DialoGPT-small\"\n",
        "tokenizer = AutoTokenizer.from_pretrained(model_name)\n",
        "model = AutoModelForCausalLM.from_pretrained(model_name)\n",
        "\n",
        "def generate_response(input_text, chat_history_ids=None):\n",
        "    new_input_ids = tokenizer.encode(input_text + tokenizer.eos_token, return_tensors='pt')\n",
        "    bot_input_ids = new_input_ids if chat_history_ids is None else torch.cat([chat_history_ids, new_input_ids], dim=-1)\n",
        "\n",
        "    # 샘플링 파라미터를 적용하여 응답 생성\n",
        "    chat_history_ids = model.generate(\n",
        "        bot_input_ids,\n",
        "        max_length=1000,\n",
        "        do_sample=True,\n",
        "        temperature=0.7,\n",
        "        top_k=50,\n",
        "        top_p=0.95,\n",
        "        pad_token_id=tokenizer.eos_token_id\n",
        "    )\n",
        "\n",
        "    response = tokenizer.decode(chat_history_ids[:, bot_input_ids.shape[-1]:][0], skip_special_tokens=True)\n",
        "    return response, chat_history_ids\n",
        "\n",
        "# 테스트 실행\n",
        "input_text = input(\"입력\")\n",
        "response, chat_history_ids = generate_response(input_text)\n",
        "print(\"입력:\", input_text)\n",
        "print(\"생성된 응답:\", response)\n"
      ],
      "metadata": {
        "colab": {
          "base_uri": "https://localhost:8080/"
        },
        "id": "Zq5kuKxlHU1b",
        "outputId": "8d75a4d3-2459-47a4-8614-2a76b98e86b7"
      },
      "execution_count": 58,
      "outputs": [
        {
          "output_type": "stream",
          "name": "stdout",
          "text": [
            "입력hello\n",
            "입력: hello\n",
            "생성된 응답: I like that you used a space in your username.\n"
          ]
        }
      ]
    },
    {
      "cell_type": "code",
      "source": [],
      "metadata": {
        "id": "EXkbCcUVZeyq"
      },
      "execution_count": null,
      "outputs": []
    }
  ]
}