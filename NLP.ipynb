{
  "nbformat": 4,
  "nbformat_minor": 0,
  "metadata": {
    "colab": {
      "provenance": [],
      "authorship_tag": "ABX9TyMAlPx4KtLaRMpG1p+cuguv",
      "include_colab_link": true
    },
    "kernelspec": {
      "name": "python3",
      "display_name": "Python 3"
    },
    "language_info": {
      "name": "python"
    }
  },
  "cells": [
    {
      "cell_type": "markdown",
      "metadata": {
        "id": "view-in-github",
        "colab_type": "text"
      },
      "source": [
        "<a href=\"https://colab.research.google.com/github/dlawnghks/Self-study/blob/main/NLP.ipynb\" target=\"_parent\"><img src=\"https://colab.research.google.com/assets/colab-badge.svg\" alt=\"Open In Colab\"/></a>"
      ]
    },
    {
      "cell_type": "code",
      "source": [
        "!pip install konlpy\n",
        "!pip install nltk"
      ],
      "metadata": {
        "colab": {
          "base_uri": "https://localhost:8080/"
        },
        "id": "KCGZhBjVUJr5",
        "outputId": "e9d9c504-7898-4cd1-8e42-059409a6166f"
      },
      "execution_count": 2,
      "outputs": [
        {
          "output_type": "stream",
          "name": "stdout",
          "text": [
            "Collecting konlpy\n",
            "  Downloading konlpy-0.6.0-py2.py3-none-any.whl.metadata (1.9 kB)\n",
            "Collecting JPype1>=0.7.0 (from konlpy)\n",
            "  Downloading jpype1-1.5.1-cp310-cp310-manylinux_2_17_x86_64.manylinux2014_x86_64.whl.metadata (4.9 kB)\n",
            "Requirement already satisfied: lxml>=4.1.0 in /usr/local/lib/python3.10/dist-packages (from konlpy) (5.3.0)\n",
            "Requirement already satisfied: numpy>=1.6 in /usr/local/lib/python3.10/dist-packages (from konlpy) (1.26.4)\n",
            "Requirement already satisfied: packaging in /usr/local/lib/python3.10/dist-packages (from JPype1>=0.7.0->konlpy) (24.2)\n",
            "Downloading konlpy-0.6.0-py2.py3-none-any.whl (19.4 MB)\n",
            "\u001b[2K   \u001b[90m━━━━━━━━━━━━━━━━━━━━━━━━━━━━━━━━━━━━━━━━\u001b[0m \u001b[32m19.4/19.4 MB\u001b[0m \u001b[31m16.6 MB/s\u001b[0m eta \u001b[36m0:00:00\u001b[0m\n",
            "\u001b[?25hDownloading jpype1-1.5.1-cp310-cp310-manylinux_2_17_x86_64.manylinux2014_x86_64.whl (493 kB)\n",
            "\u001b[2K   \u001b[90m━━━━━━━━━━━━━━━━━━━━━━━━━━━━━━━━━━━━━━━━\u001b[0m \u001b[32m493.8/493.8 kB\u001b[0m \u001b[31m12.6 MB/s\u001b[0m eta \u001b[36m0:00:00\u001b[0m\n",
            "\u001b[?25hInstalling collected packages: JPype1, konlpy\n",
            "Successfully installed JPype1-1.5.1 konlpy-0.6.0\n",
            "Requirement already satisfied: nltk in /usr/local/lib/python3.10/dist-packages (3.9.1)\n",
            "Requirement already satisfied: click in /usr/local/lib/python3.10/dist-packages (from nltk) (8.1.7)\n",
            "Requirement already satisfied: joblib in /usr/local/lib/python3.10/dist-packages (from nltk) (1.4.2)\n",
            "Requirement already satisfied: regex>=2021.8.3 in /usr/local/lib/python3.10/dist-packages (from nltk) (2024.11.6)\n",
            "Requirement already satisfied: tqdm in /usr/local/lib/python3.10/dist-packages (from nltk) (4.67.1)\n"
          ]
        }
      ]
    },
    {
      "cell_type": "code",
      "source": [
        "import nltk\n",
        "nltk.download('punkt')"
      ],
      "metadata": {
        "colab": {
          "base_uri": "https://localhost:8080/"
        },
        "id": "3JzHxBGMUOMG",
        "outputId": "b96e4640-9c69-4478-920f-f3a44b6870c7"
      },
      "execution_count": 3,
      "outputs": [
        {
          "output_type": "stream",
          "name": "stderr",
          "text": [
            "[nltk_data] Downloading package punkt to /root/nltk_data...\n",
            "[nltk_data]   Unzipping tokenizers/punkt.zip.\n"
          ]
        },
        {
          "output_type": "execute_result",
          "data": {
            "text/plain": [
              "True"
            ]
          },
          "metadata": {},
          "execution_count": 3
        }
      ]
    },
    {
      "cell_type": "markdown",
      "source": [
        "#형태소 = 언어에서 의미를 가진 최소의 단위"
      ],
      "metadata": {
        "id": "rTDfixfbU2mC"
      }
    },
    {
      "cell_type": "code",
      "source": [
        "from konlpy.tag import Okt\n",
        "from collections import Counter\n",
        "\n",
        "# 분석할 텍스트\n",
        "text = \"\"\"\n",
        "자연어 처리는 컴퓨터 과학과 인공지능의 한 분야로,\n",
        "컴퓨터가 인간의 언어를 이해하고 해석할 수 있도록 하는 기술입니다.\n",
        "텍스트 분석, 기계 번역, 감성 분석 등 다양한 응용 분야가 있습니다.\n",
        "\"\"\"\n",
        "\n",
        "# 형태소 분석기 초기화\n",
        "okt = Okt()\n",
        "\n",
        "# 텍스트를 명사 단위로 토큰화\n",
        "tokens = okt.nouns(text)\n",
        "\n",
        "# 단어의 빈도수 계산\n",
        "word_counts = Counter(tokens)\n",
        "\n",
        "# 결과 출력\n",
        "print(\"단어 빈도수:\")\n",
        "for word, count in word_counts.most_common():\n",
        "    print(f\"{word}: {count}\")\n"
      ],
      "metadata": {
        "colab": {
          "base_uri": "https://localhost:8080/"
        },
        "id": "7fTqbeotUSpl",
        "outputId": "ddeb988d-f68a-4430-8857-402453420366"
      },
      "execution_count": null,
      "outputs": [
        {
          "output_type": "stream",
          "name": "stdout",
          "text": [
            "단어 빈도수:\n",
            "컴퓨터: 2\n",
            "분야: 2\n",
            "분석: 2\n",
            "자연어: 1\n",
            "처리: 1\n",
            "과학: 1\n",
            "인공: 1\n",
            "지능: 1\n",
            "인간: 1\n",
            "언어: 1\n",
            "이해: 1\n",
            "해석: 1\n",
            "수: 1\n",
            "기술: 1\n",
            "텍스트: 1\n",
            "기계: 1\n",
            "번역: 1\n",
            "감성: 1\n",
            "등: 1\n",
            "응용: 1\n"
          ]
        }
      ]
    },
    {
      "cell_type": "code",
      "source": [
        "from konlpy.tag import Okt\n",
        "from collections import Counter\n",
        "\n",
        "# 분석할 텍스트\n",
        "text = input(\"분석할 텍스트를 입력하세요: \")\n",
        "\n",
        "# 형태소 분석기 초기화\n",
        "okt = Okt()\n",
        "\n",
        "# 텍스트를 명사 단위로 토큰화\n",
        "tokens = okt.nouns(text)\n",
        "\n",
        "# 단어의 빈도수 계산\n",
        "word_counts = Counter(tokens)\n",
        "\n",
        "# 결과 출력\n",
        "print(\"단어 빈도수:\")\n",
        "for word, count in word_counts.most_common():\n",
        "    print(f\"{word}: {count}\")\n"
      ],
      "metadata": {
        "id": "50LOmcwUUZBY",
        "colab": {
          "base_uri": "https://localhost:8080/"
        },
        "outputId": "2116b7d5-b141-4a5e-d1ec-d5b15cff0c62"
      },
      "execution_count": 7,
      "outputs": [
        {
          "output_type": "stream",
          "name": "stdout",
          "text": [
            "분석할 텍스트를 입력하세요: 나는 오늘 치킨을 먹었다\n",
            "단어 빈도수:\n",
            "나: 1\n",
            "오늘: 1\n",
            "치킨: 1\n"
          ]
        }
      ]
    },
    {
      "cell_type": "code",
      "source": [
        "from konlpy.tag import Okt\n",
        "from collections import Counter\n",
        "\n",
        "# 사용자가 입력한 텍스트 받기\n",
        "text = input(\"분석할 문장을 입력하세요: \")\n",
        "\n",
        "# 형태소 분석기 초기화\n",
        "okt = Okt()\n",
        "\n",
        "# 텍스트를 형태소 단위로 분석\n",
        "tokens_with_tags = okt.pos(text)\n",
        "\n",
        "# 단어와 품사 분리\n",
        "tokens = [word for word, tag in tokens_with_tags]\n",
        "tags = {word: tag for word, tag in tokens_with_tags}\n",
        "\n",
        "# 단어의 빈도수 계산\n",
        "word_counts = Counter(tokens)\n",
        "\n",
        "# 결과 출력\n",
        "print(\"\\n단어 빈도수 및 품사:\")\n",
        "for word, count in word_counts.most_common():\n",
        "    print(f\"{word} ({tags[word]}): {count}번\")\n"
      ],
      "metadata": {
        "colab": {
          "base_uri": "https://localhost:8080/"
        },
        "id": "tMTnlZez9D2l",
        "outputId": "00f0528b-a1d6-41aa-a091-68ce8c1c57db"
      },
      "execution_count": 8,
      "outputs": [
        {
          "output_type": "stream",
          "name": "stdout",
          "text": [
            "분석할 문장을 입력하세요: 나는 치킨을 좋아하고 치킨을 자주 먹는다\n",
            "\n",
            "단어 빈도수 및 품사:\n",
            "치킨 (Noun): 2번\n",
            "을 (Josa): 2번\n",
            "나 (Noun): 1번\n",
            "는 (Josa): 1번\n",
            "좋아하고 (Adjective): 1번\n",
            "자주 (Noun): 1번\n",
            "먹는다 (Verb): 1번\n"
          ]
        }
      ]
    }
  ]
}